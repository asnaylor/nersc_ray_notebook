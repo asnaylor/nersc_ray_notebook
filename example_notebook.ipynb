{
 "cells": [
  {
   "cell_type": "markdown",
   "id": "991de4c8-b56a-47e7-aa1d-1018834b7e57",
   "metadata": {},
   "source": [
    "# Ray hyperparameter optimization Notebook"
   ]
  },
  {
   "cell_type": "code",
   "execution_count": 42,
   "id": "25c93f65-93aa-4f14-8e66-618a2eef3064",
   "metadata": {},
   "outputs": [],
   "source": [
    "# Config\n",
    "# sbatch_cmd_options = \\\n",
    "# \"--time=00:30:00 \\\n",
    "# -q debug \\\n",
    "# -A dasrepo \\\n",
    "# --image=nersc/pytorch:ngc-22.05-v1 \\\n",
    "# --nodes=2\"\n",
    "sbatch_cmd_options = \\\n",
    "\"--time=00:30:00 \\\n",
    "-q debug \\\n",
    "-A dasrepo \\\n",
    "--nodes=2\""
   ]
  },
  {
   "cell_type": "code",
   "execution_count": 43,
   "id": "16d4575c-4672-44b4-9aa7-df1a04e2a235",
   "metadata": {},
   "outputs": [
    {
     "name": "stdout",
     "output_type": "stream",
     "text": [
      "<> Submiting Ray cluster job\n",
      "Submitted batch job 66136249\n"
     ]
    }
   ],
   "source": [
    "# Run cell to setup RAY Cluster\n",
    "!source scripts/submit_ray_cluster.sh \"$sbatch_cmd_options\""
   ]
  },
  {
   "cell_type": "code",
   "execution_count": 44,
   "id": "ed0593e7-9749-4b84-8f3e-97d6b844a040",
   "metadata": {},
   "outputs": [
    {
     "name": "stdout",
     "output_type": "stream",
     "text": [
      "/global/cscratch1/sd/asnaylor/ray_cluster/head_node_address\n"
     ]
    }
   ],
   "source": [
    "#While loop pull contents\n",
    "import os \n",
    "ray_scratch_file = os.path.join(os.getenv('SCRATCH'), 'ray_cluster', 'head_node_address')\n",
    "\n",
    "print(ray_scratch_file)"
   ]
  },
  {
   "cell_type": "code",
   "execution_count": 45,
   "id": "bcd2f754-e5cd-4b21-99e2-d78bc3069d2a",
   "metadata": {},
   "outputs": [
    {
     "name": "stdout",
     "output_type": "stream",
     "text": [
      "head_node_address\n"
     ]
    }
   ],
   "source": [
    "!ls /global/cscratch1/sd/asnaylor/ray_cluster/"
   ]
  },
  {
   "cell_type": "code",
   "execution_count": 46,
   "id": "4e39bc51-e032-40d8-b67d-ee05b9baa282",
   "metadata": {},
   "outputs": [
    {
     "name": "stdout",
     "output_type": "stream",
     "text": [
      "nid00911:6379\n"
     ]
    }
   ],
   "source": [
    "#srun parts\n",
    "!cat $ray_scratch_file"
   ]
  },
  {
   "cell_type": "code",
   "execution_count": 57,
   "id": "27a2c183-de25-446c-9aad-91c39340876e",
   "metadata": {},
   "outputs": [
    {
     "name": "stdout",
     "output_type": "stream",
     "text": [
      "JOBID            ST USER      NAME          NODES TIME_LIMIT       TIME  SUBMIT_TIME          QOS             START_TIME           FEATURES       NODELIST(REASON\n",
      "66136249         CG asnaylor  sbatch_submi  2          30:00       2:45  2023-01-19T18:30:17  debug_hsw       2023-01-19T18:30:21  haswell        nid00[911-912] \n"
     ]
    }
   ],
   "source": [
    "!sqs"
   ]
  },
  {
   "cell_type": "code",
   "execution_count": 56,
   "id": "76e3be2d-1ab3-404f-9f01-a0076f1d9997",
   "metadata": {},
   "outputs": [],
   "source": [
    "!scancel -u $USER"
   ]
  },
  {
   "cell_type": "code",
   "execution_count": null,
   "id": "ffde6ad8-b3a2-476f-8c6b-248eb2fce2fb",
   "metadata": {},
   "outputs": [],
   "source": [
    "# !cat slurm-*.out\n",
    "!cat slurm-66136249.out"
   ]
  },
  {
   "cell_type": "markdown",
   "id": "fe7327e2-61db-4b05-bcce-e5109074a8bf",
   "metadata": {},
   "source": [
    "-----"
   ]
  },
  {
   "cell_type": "code",
   "execution_count": 52,
   "id": "ae02412e-e359-4450-8d4e-5311707d4ea0",
   "metadata": {},
   "outputs": [
    {
     "name": "stdout",
     "output_type": "stream",
     "text": [
      "nid00911:6379\n"
     ]
    }
   ],
   "source": [
    "import ray\n",
    "import math\n",
    "\n",
    "def convert_size(size_bytes):\n",
    "    if size_bytes == 0:\n",
    "        return \"0B\"\n",
    "    size_name = (\"B\", \"KB\", \"MB\", \"GB\", \"TB\", \"PB\", \"EB\", \"ZB\", \"YB\")\n",
    "    i = int(math.floor(math.log(size_bytes, 1024)))\n",
    "    p = math.pow(1024, i)\n",
    "    s = round(size_bytes / p, 2)\n",
    "    return \"%s %s\" % (s, size_name[i])\n",
    "\n",
    "\n",
    "#get address from file\n",
    "with open(ray_scratch_file) as f:\n",
    "    RAY_NODE_ADDRESS = f.read().strip('\\n')\n",
    "\n",
    "print(RAY_NODE_ADDRESS)"
   ]
  },
  {
   "cell_type": "code",
   "execution_count": 55,
   "id": "7a871f68-b98e-4da7-bf03-a68cbb894bf9",
   "metadata": {},
   "outputs": [
    {
     "name": "stderr",
     "output_type": "stream",
     "text": [
      "2023-01-19 18:32:38,615\tINFO worker.py:1333 -- Connecting to existing Ray cluster at address: nid00911:6379...\n",
      "2023-01-19 18:32:43,630\tWARNING utils.py:1333 -- Unable to connect to GCS at nid00911:6379. Check that (1) Ray GCS with matching version started successfully at the specified address, and (2) there is no firewall setting preventing access.\n",
      "2023-01-19 18:32:50,645\tWARNING utils.py:1333 -- Unable to connect to GCS at nid00911:6379. Check that (1) Ray GCS with matching version started successfully at the specified address, and (2) there is no firewall setting preventing access.\n",
      "2023-01-19 18:32:57,661\tWARNING utils.py:1333 -- Unable to connect to GCS at nid00911:6379. Check that (1) Ray GCS with matching version started successfully at the specified address, and (2) there is no firewall setting preventing access.\n"
     ]
    },
    {
     "ename": "KeyboardInterrupt",
     "evalue": "",
     "output_type": "error",
     "traceback": [
      "\u001b[0;31m---------------------------------------------------------------------------\u001b[0m",
      "\u001b[0;31mKeyboardInterrupt\u001b[0m                         Traceback (most recent call last)",
      "Cell \u001b[0;32mIn[55], line 1\u001b[0m\n\u001b[0;32m----> 1\u001b[0m \u001b[43mray\u001b[49m\u001b[38;5;241;43m.\u001b[39;49m\u001b[43minit\u001b[49m\u001b[43m(\u001b[49m\u001b[43maddress\u001b[49m\u001b[38;5;241;43m=\u001b[39;49m\u001b[43mRAY_NODE_ADDRESS\u001b[49m\u001b[43m)\u001b[49m\n\u001b[1;32m      2\u001b[0m \u001b[38;5;66;03m# ray.init(address='ray://nid00911:10001')\u001b[39;00m\n",
      "File \u001b[0;32m~/.conda/envs/ray_ml_env/lib/python3.8/site-packages/ray/_private/client_mode_hook.py:105\u001b[0m, in \u001b[0;36mclient_mode_hook.<locals>.wrapper\u001b[0;34m(*args, **kwargs)\u001b[0m\n\u001b[1;32m    103\u001b[0m     \u001b[38;5;28;01mif\u001b[39;00m func\u001b[38;5;241m.\u001b[39m\u001b[38;5;18m__name__\u001b[39m \u001b[38;5;241m!=\u001b[39m \u001b[38;5;124m\"\u001b[39m\u001b[38;5;124minit\u001b[39m\u001b[38;5;124m\"\u001b[39m \u001b[38;5;129;01mor\u001b[39;00m is_client_mode_enabled_by_default:\n\u001b[1;32m    104\u001b[0m         \u001b[38;5;28;01mreturn\u001b[39;00m \u001b[38;5;28mgetattr\u001b[39m(ray, func\u001b[38;5;241m.\u001b[39m\u001b[38;5;18m__name__\u001b[39m)(\u001b[38;5;241m*\u001b[39margs, \u001b[38;5;241m*\u001b[39m\u001b[38;5;241m*\u001b[39mkwargs)\n\u001b[0;32m--> 105\u001b[0m \u001b[38;5;28;01mreturn\u001b[39;00m \u001b[43mfunc\u001b[49m\u001b[43m(\u001b[49m\u001b[38;5;241;43m*\u001b[39;49m\u001b[43margs\u001b[49m\u001b[43m,\u001b[49m\u001b[43m \u001b[49m\u001b[38;5;241;43m*\u001b[39;49m\u001b[38;5;241;43m*\u001b[39;49m\u001b[43mkwargs\u001b[49m\u001b[43m)\u001b[49m\n",
      "File \u001b[0;32m~/.conda/envs/ray_ml_env/lib/python3.8/site-packages/ray/_private/worker.py:1475\u001b[0m, in \u001b[0;36minit\u001b[0;34m(address, num_cpus, num_gpus, resources, object_store_memory, local_mode, ignore_reinit_error, include_dashboard, dashboard_host, dashboard_port, job_config, configure_logging, logging_level, logging_format, log_to_driver, namespace, runtime_env, storage, **kwargs)\u001b[0m\n\u001b[1;32m   1462\u001b[0m ray_params \u001b[38;5;241m=\u001b[39m ray\u001b[38;5;241m.\u001b[39m_private\u001b[38;5;241m.\u001b[39mparameter\u001b[38;5;241m.\u001b[39mRayParams(\n\u001b[1;32m   1463\u001b[0m     node_ip_address\u001b[38;5;241m=\u001b[39mnode_ip_address,\n\u001b[1;32m   1464\u001b[0m     raylet_ip_address\u001b[38;5;241m=\u001b[39mraylet_ip_address,\n\u001b[0;32m   (...)\u001b[0m\n\u001b[1;32m   1472\u001b[0m     metrics_export_port\u001b[38;5;241m=\u001b[39m_metrics_export_port,\n\u001b[1;32m   1473\u001b[0m )\n\u001b[1;32m   1474\u001b[0m \u001b[38;5;28;01mtry\u001b[39;00m:\n\u001b[0;32m-> 1475\u001b[0m     _global_node \u001b[38;5;241m=\u001b[39m \u001b[43mray\u001b[49m\u001b[38;5;241;43m.\u001b[39;49m\u001b[43m_private\u001b[49m\u001b[38;5;241;43m.\u001b[39;49m\u001b[43mnode\u001b[49m\u001b[38;5;241;43m.\u001b[39;49m\u001b[43mNode\u001b[49m\u001b[43m(\u001b[49m\n\u001b[1;32m   1476\u001b[0m \u001b[43m        \u001b[49m\u001b[43mray_params\u001b[49m\u001b[43m,\u001b[49m\n\u001b[1;32m   1477\u001b[0m \u001b[43m        \u001b[49m\u001b[43mhead\u001b[49m\u001b[38;5;241;43m=\u001b[39;49m\u001b[38;5;28;43;01mFalse\u001b[39;49;00m\u001b[43m,\u001b[49m\n\u001b[1;32m   1478\u001b[0m \u001b[43m        \u001b[49m\u001b[43mshutdown_at_exit\u001b[49m\u001b[38;5;241;43m=\u001b[39;49m\u001b[38;5;28;43;01mFalse\u001b[39;49;00m\u001b[43m,\u001b[49m\n\u001b[1;32m   1479\u001b[0m \u001b[43m        \u001b[49m\u001b[43mspawn_reaper\u001b[49m\u001b[38;5;241;43m=\u001b[39;49m\u001b[38;5;28;43;01mFalse\u001b[39;49;00m\u001b[43m,\u001b[49m\n\u001b[1;32m   1480\u001b[0m \u001b[43m        \u001b[49m\u001b[43mconnect_only\u001b[49m\u001b[38;5;241;43m=\u001b[39;49m\u001b[38;5;28;43;01mTrue\u001b[39;49;00m\u001b[43m,\u001b[49m\n\u001b[1;32m   1481\u001b[0m \u001b[43m    \u001b[49m\u001b[43m)\u001b[49m\n\u001b[1;32m   1482\u001b[0m \u001b[38;5;28;01mexcept\u001b[39;00m \u001b[38;5;167;01mConnectionError\u001b[39;00m:\n\u001b[1;32m   1483\u001b[0m     \u001b[38;5;28;01mif\u001b[39;00m gcs_address \u001b[38;5;241m==\u001b[39m ray\u001b[38;5;241m.\u001b[39m_private\u001b[38;5;241m.\u001b[39mutils\u001b[38;5;241m.\u001b[39mread_ray_address(_temp_dir):\n",
      "File \u001b[0;32m~/.conda/envs/ray_ml_env/lib/python3.8/site-packages/ray/_private/node.py:182\u001b[0m, in \u001b[0;36mNode.__init__\u001b[0;34m(self, ray_params, head, shutdown_at_exit, spawn_reaper, connect_only)\u001b[0m\n\u001b[1;32m    180\u001b[0m     \u001b[38;5;28mself\u001b[39m\u001b[38;5;241m.\u001b[39msession_name \u001b[38;5;241m=\u001b[39m \u001b[38;5;124mf\u001b[39m\u001b[38;5;124m\"\u001b[39m\u001b[38;5;124msession_\u001b[39m\u001b[38;5;132;01m{\u001b[39;00mdate_str\u001b[38;5;132;01m}\u001b[39;00m\u001b[38;5;124m_\u001b[39m\u001b[38;5;132;01m{\u001b[39;00mos\u001b[38;5;241m.\u001b[39mgetpid()\u001b[38;5;132;01m}\u001b[39;00m\u001b[38;5;124m\"\u001b[39m\n\u001b[1;32m    181\u001b[0m \u001b[38;5;28;01melse\u001b[39;00m:\n\u001b[0;32m--> 182\u001b[0m     session_name \u001b[38;5;241m=\u001b[39m \u001b[43mray\u001b[49m\u001b[38;5;241;43m.\u001b[39;49m\u001b[43m_private\u001b[49m\u001b[38;5;241;43m.\u001b[39;49m\u001b[43mutils\u001b[49m\u001b[38;5;241;43m.\u001b[39;49m\u001b[43minternal_kv_get_with_retry\u001b[49m\u001b[43m(\u001b[49m\n\u001b[1;32m    183\u001b[0m \u001b[43m        \u001b[49m\u001b[38;5;28;43mself\u001b[39;49m\u001b[38;5;241;43m.\u001b[39;49m\u001b[43mget_gcs_client\u001b[49m\u001b[43m(\u001b[49m\u001b[43m)\u001b[49m\u001b[43m,\u001b[49m\n\u001b[1;32m    184\u001b[0m \u001b[43m        \u001b[49m\u001b[38;5;124;43m\"\u001b[39;49m\u001b[38;5;124;43msession_name\u001b[39;49m\u001b[38;5;124;43m\"\u001b[39;49m\u001b[43m,\u001b[49m\n\u001b[1;32m    185\u001b[0m \u001b[43m        \u001b[49m\u001b[43mray_constants\u001b[49m\u001b[38;5;241;43m.\u001b[39;49m\u001b[43mKV_NAMESPACE_SESSION\u001b[49m\u001b[43m,\u001b[49m\n\u001b[1;32m    186\u001b[0m \u001b[43m        \u001b[49m\u001b[43mnum_retries\u001b[49m\u001b[38;5;241;43m=\u001b[39;49m\u001b[43mNUM_REDIS_GET_RETRIES\u001b[49m\u001b[43m,\u001b[49m\n\u001b[1;32m    187\u001b[0m \u001b[43m    \u001b[49m\u001b[43m)\u001b[49m\n\u001b[1;32m    188\u001b[0m     \u001b[38;5;28mself\u001b[39m\u001b[38;5;241m.\u001b[39msession_name \u001b[38;5;241m=\u001b[39m ray\u001b[38;5;241m.\u001b[39m_private\u001b[38;5;241m.\u001b[39mutils\u001b[38;5;241m.\u001b[39mdecode(session_name)\n\u001b[1;32m    189\u001b[0m     \u001b[38;5;66;03m# setup gcs client\u001b[39;00m\n",
      "File \u001b[0;32m~/.conda/envs/ray_ml_env/lib/python3.8/site-packages/ray/_private/utils.py:1347\u001b[0m, in \u001b[0;36minternal_kv_get_with_retry\u001b[0;34m(gcs_client, key, namespace, num_retries)\u001b[0m\n\u001b[1;32m   1345\u001b[0m     \u001b[38;5;28;01melse\u001b[39;00m:\n\u001b[1;32m   1346\u001b[0m         logger\u001b[38;5;241m.\u001b[39mdebug(\u001b[38;5;124mf\u001b[39m\u001b[38;5;124m\"\u001b[39m\u001b[38;5;124mFetched \u001b[39m\u001b[38;5;132;01m{\u001b[39;00mkey\u001b[38;5;132;01m}\u001b[39;00m\u001b[38;5;124m=None from KV. Retrying.\u001b[39m\u001b[38;5;124m\"\u001b[39m)\n\u001b[0;32m-> 1347\u001b[0m         \u001b[43mtime\u001b[49m\u001b[38;5;241;43m.\u001b[39;49m\u001b[43msleep\u001b[49m\u001b[43m(\u001b[49m\u001b[38;5;241;43m2\u001b[39;49m\u001b[43m)\u001b[49m\n\u001b[1;32m   1348\u001b[0m \u001b[38;5;28;01mif\u001b[39;00m \u001b[38;5;129;01mnot\u001b[39;00m result:\n\u001b[1;32m   1349\u001b[0m     \u001b[38;5;28;01mraise\u001b[39;00m \u001b[38;5;167;01mConnectionError\u001b[39;00m(\n\u001b[1;32m   1350\u001b[0m         \u001b[38;5;124mf\u001b[39m\u001b[38;5;124m\"\u001b[39m\u001b[38;5;124mCould not read \u001b[39m\u001b[38;5;124m'\u001b[39m\u001b[38;5;132;01m{\u001b[39;00mkey\u001b[38;5;241m.\u001b[39mdecode()\u001b[38;5;132;01m}\u001b[39;00m\u001b[38;5;124m'\u001b[39m\u001b[38;5;124m from GCS. Did GCS start successfully?\u001b[39m\u001b[38;5;124m\"\u001b[39m\n\u001b[1;32m   1351\u001b[0m     )\n",
      "\u001b[0;31mKeyboardInterrupt\u001b[0m: "
     ]
    }
   ],
   "source": [
    "ray.init(address=RAY_NODE_ADDRESS)\n",
    "# ray.init(address='ray://nid00911:10001')"
   ]
  },
  {
   "cell_type": "code",
   "execution_count": null,
   "id": "8003bdbb-17dc-4ff2-baff-6675f20b66aa",
   "metadata": {},
   "outputs": [],
   "source": [
    "nodes = ray.nodes()\n",
    "print(nodes)"
   ]
  },
  {
   "cell_type": "code",
   "execution_count": null,
   "id": "176f8017-11f5-4b1f-9e4c-ff3af52d9dd7",
   "metadata": {},
   "outputs": [],
   "source": [
    "node_resources = ray.cluster_resources()\n",
    "print(\"total of {} CPUs and {} RAM\".format(node_resources['CPU'], convert_size(node_resources['memory'])))\n"
   ]
  },
  {
   "cell_type": "code",
   "execution_count": null,
   "id": "d4058404-b0b3-4d58-a45a-080e1e646ed0",
   "metadata": {},
   "outputs": [],
   "source": []
  }
 ],
 "metadata": {
  "kernelspec": {
   "display_name": "ray_ml_env",
   "language": "python",
   "name": "ray_ml_env"
  },
  "language_info": {
   "codemirror_mode": {
    "name": "ipython",
    "version": 3
   },
   "file_extension": ".py",
   "mimetype": "text/x-python",
   "name": "python",
   "nbconvert_exporter": "python",
   "pygments_lexer": "ipython3",
   "version": "3.8.13"
  }
 },
 "nbformat": 4,
 "nbformat_minor": 5
}
