{
 "cells": [
  {
   "cell_type": "markdown",
   "id": "991de4c8-b56a-47e7-aa1d-1018834b7e57",
   "metadata": {},
   "source": [
    "# Ray hyperparameter optimization Notebook"
   ]
  },
  {
   "cell_type": "code",
   "execution_count": 30,
   "id": "25c93f65-93aa-4f14-8e66-618a2eef3064",
   "metadata": {},
   "outputs": [],
   "source": [
    "# Config\n",
    "sbatch_cmd_options = \\\n",
    "\"--time=00:30:00 \\\n",
    "-q debug \\\n",
    "-A dasrepo \\\n",
    "--image=nersc/pytorch:ngc-22.05-v1 \\\n",
    "--nodes=2\"\n",
    "\n",
    "# sbatch_cmd_options = \\\n",
    "# \"--time=00:30:00 \\\n",
    "# -q debug \\\n",
    "# -A dasrepo \\\n",
    "# --nodes=2\""
   ]
  },
  {
   "cell_type": "code",
   "execution_count": 31,
   "id": "16d4575c-4672-44b4-9aa7-df1a04e2a235",
   "metadata": {},
   "outputs": [
    {
     "name": "stdout",
     "output_type": "stream",
     "text": [
      "<> Submiting Ray cluster job\n",
      "Submitted batch job 66230704\n"
     ]
    }
   ],
   "source": [
    "# Run cell to setup RAY Cluster\n",
    "!source scripts/submit_ray_cluster.sh \"$sbatch_cmd_options\""
   ]
  },
  {
   "cell_type": "code",
   "execution_count": 48,
   "id": "ed0593e7-9749-4b84-8f3e-97d6b844a040",
   "metadata": {},
   "outputs": [
    {
     "name": "stdout",
     "output_type": "stream",
     "text": [
      "/global/cscratch1/sd/asnaylor/ray_cluster/head_node_address\n"
     ]
    }
   ],
   "source": [
    "#While loop pull contents\n",
    "import os \n",
    "ray_scratch_file = os.path.join(os.getenv('SCRATCH'), 'ray_cluster', 'head_node_address')\n",
    "\n",
    "print(ray_scratch_file)"
   ]
  },
  {
   "cell_type": "code",
   "execution_count": 49,
   "id": "bcd2f754-e5cd-4b21-99e2-d78bc3069d2a",
   "metadata": {},
   "outputs": [
    {
     "name": "stdout",
     "output_type": "stream",
     "text": [
      "head_node_address\n"
     ]
    }
   ],
   "source": [
    "!ls /global/cscratch1/sd/asnaylor/ray_cluster\n",
    "# !ls /pscratch/sd/a/asnaylor/ray_cluster/"
   ]
  },
  {
   "cell_type": "code",
   "execution_count": 50,
   "id": "4e39bc51-e032-40d8-b67d-ee05b9baa282",
   "metadata": {},
   "outputs": [
    {
     "name": "stdout",
     "output_type": "stream",
     "text": [
      "10.128.4.83\n"
     ]
    }
   ],
   "source": [
    "#srun parts\n",
    "!cat $ray_scratch_file"
   ]
  },
  {
   "cell_type": "code",
   "execution_count": 6,
   "id": "9526a402-5511-4c1b-810b-f74eb531707b",
   "metadata": {},
   "outputs": [],
   "source": [
    "# !ssh 10.128.4.224 echo 'hello'"
   ]
  },
  {
   "cell_type": "code",
   "execution_count": 67,
   "id": "27a2c183-de25-446c-9aad-91c39340876e",
   "metadata": {},
   "outputs": [
    {
     "name": "stdout",
     "output_type": "stream",
     "text": [
      "JOBID            ST USER      NAME          NODES TIME_LIMIT       TIME  SUBMIT_TIME          QOS             START_TIME           FEATURES       NODELIST(REASON\n",
      "66230704         CG asnaylor  sbatch_submi  2          30:00       4:09  2023-01-24T14:04:46  debug_hsw       2023-01-24T14:04:47  haswell        nid0[1098-1099]\n"
     ]
    }
   ],
   "source": [
    "!sqs"
   ]
  },
  {
   "cell_type": "code",
   "execution_count": 66,
   "id": "76e3be2d-1ab3-404f-9f01-a0076f1d9997",
   "metadata": {},
   "outputs": [],
   "source": [
    "!scancel -u $USER"
   ]
  },
  {
   "cell_type": "code",
   "execution_count": 51,
   "id": "ffde6ad8-b3a2-476f-8c6b-248eb2fce2fb",
   "metadata": {},
   "outputs": [
    {
     "name": "stdout",
     "output_type": "stream",
     "text": [
      "[slurm] - IP Head: nid01098:6379\n",
      "[slurm] - Starting ray HEAD\n",
      "2023-01-24 14:04:59,416\tINFO usage_lib.py:452 -- Usage stats collection is disabled.\n",
      "2023-01-24 14:04:59,416\tINFO scripts.py:719 -- \u001b[37mLocal node IP\u001b[39m: \u001b[1mnid01098\u001b[22m\n",
      "2023-01-24 14:05:07,718\tSUCC scripts.py:756 -- \u001b[32m--------------------\u001b[39m\n",
      "2023-01-24 14:05:07,718\tSUCC scripts.py:757 -- \u001b[32mRay runtime started.\u001b[39m\n",
      "2023-01-24 14:05:07,718\tSUCC scripts.py:758 -- \u001b[32m--------------------\u001b[39m\n",
      "2023-01-24 14:05:07,719\tINFO scripts.py:760 -- \u001b[36mNext steps\u001b[39m\n",
      "2023-01-24 14:05:07,719\tINFO scripts.py:761 -- To connect to this Ray runtime from another node, run\n",
      "2023-01-24 14:05:07,719\tINFO scripts.py:764 -- \u001b[1m  ray start --address='nid01098:6379'\u001b[22m\n",
      "2023-01-24 14:05:07,719\tINFO scripts.py:780 -- Alternatively, use the following Python code:\n",
      "2023-01-24 14:05:07,719\tINFO scripts.py:782 -- \u001b[35mimport\u001b[39m\u001b[26m ray\n",
      "2023-01-24 14:05:07,719\tINFO scripts.py:786 -- ray\u001b[35m.\u001b[39m\u001b[26minit(address\u001b[35m=\u001b[39m\u001b[26m\u001b[33m'auto'\u001b[39m\u001b[26m, _node_ip_address\u001b[35m=\u001b[39m\u001b[26m\u001b[33m'nid01098'\u001b[39m\u001b[26m)\n",
      "2023-01-24 14:05:07,719\tINFO scripts.py:798 -- To connect to this Ray runtime from outside of the cluster, for example to\n",
      "2023-01-24 14:05:07,719\tINFO scripts.py:802 -- connect to a remote cluster from your laptop directly, use the following\n",
      "2023-01-24 14:05:07,719\tINFO scripts.py:806 -- Python code:\n",
      "2023-01-24 14:05:07,719\tINFO scripts.py:808 -- \u001b[35mimport\u001b[39m\u001b[26m ray\n",
      "2023-01-24 14:05:07,719\tINFO scripts.py:809 -- ray\u001b[35m.\u001b[39m\u001b[26minit(address\u001b[35m=\u001b[39m\u001b[26m\u001b[33m'ray://<head_node_ip_address>:10001'\u001b[39m\u001b[26m)\n",
      "2023-01-24 14:05:07,719\tINFO scripts.py:818 -- \u001b[4mIf connection fails, check your firewall settings and network configuration.\u001b[24m\n",
      "2023-01-24 14:05:07,719\tINFO scripts.py:826 -- To terminate the Ray runtime, run\n",
      "2023-01-24 14:05:07,719\tINFO scripts.py:827 -- \u001b[1m  ray stop\u001b[22m\n",
      "2023-01-24 14:05:07,719\tINFO scripts.py:905 -- \u001b[36m\u001b[1m--block\u001b[22m\u001b[39m\n",
      "2023-01-24 14:05:07,719\tINFO scripts.py:906 -- This command will now block forever until terminated by a signal.\n",
      "2023-01-24 14:05:07,720\tINFO scripts.py:909 -- Running subprocesses are monitored and a message will be printed if any of them terminate unexpectedly. Subprocesses exit with SIGTERM will be treated as graceful, thus NOT reported.\n",
      "[slurm] - Starting 1 ray worker\n",
      "    - 1 at nid01099\n",
      "[2023-01-24 14:05:32,351 I 22378 22378] global_state_accessor.cc:357: This node has an IP address of 10.128.4.84, while we can not found the matched Raylet address. This maybe come from when you connect the Ray cluster with a different IP address or connect a container.\n",
      "2023-01-24 14:05:32,038\tINFO scripts.py:883 -- \u001b[37mLocal node IP\u001b[39m: \u001b[1m10.128.4.84\u001b[22m\n",
      "2023-01-24 14:05:32,352\tSUCC scripts.py:895 -- \u001b[32m--------------------\u001b[39m\n",
      "2023-01-24 14:05:32,352\tSUCC scripts.py:896 -- \u001b[32mRay runtime started.\u001b[39m\n",
      "2023-01-24 14:05:32,352\tSUCC scripts.py:897 -- \u001b[32m--------------------\u001b[39m\n",
      "2023-01-24 14:05:32,352\tINFO scripts.py:899 -- To terminate the Ray runtime, run\n",
      "2023-01-24 14:05:32,352\tINFO scripts.py:900 -- \u001b[1m  ray stop\u001b[22m\n",
      "2023-01-24 14:05:32,352\tINFO scripts.py:905 -- \u001b[36m\u001b[1m--block\u001b[22m\u001b[39m\n",
      "2023-01-24 14:05:32,352\tINFO scripts.py:906 -- This command will now block forever until terminated by a signal.\n",
      "2023-01-24 14:05:32,352\tINFO scripts.py:909 -- Running subprocesses are monitored and a message will be printed if any of them terminate unexpectedly. Subprocesses exit with SIGTERM will be treated as graceful, thus NOT reported.\n"
     ]
    }
   ],
   "source": [
    "# !cat slurm-*.out\n",
    "!cat slurm-66230704.out\n",
    "# !ls *.out÷"
   ]
  },
  {
   "cell_type": "markdown",
   "id": "fe7327e2-61db-4b05-bcce-e5109074a8bf",
   "metadata": {},
   "source": [
    "-----"
   ]
  },
  {
   "cell_type": "code",
   "execution_count": 52,
   "id": "ae02412e-e359-4450-8d4e-5311707d4ea0",
   "metadata": {},
   "outputs": [
    {
     "name": "stdout",
     "output_type": "stream",
     "text": [
      "ray://10.128.4.83:10001\n"
     ]
    }
   ],
   "source": [
    "import ray\n",
    "import math\n",
    "\n",
    "def convert_size(size_bytes):\n",
    "    if size_bytes == 0:\n",
    "        return \"0B\"\n",
    "    size_name = (\"B\", \"KB\", \"MB\", \"GB\", \"TB\", \"PB\", \"EB\", \"ZB\", \"YB\")\n",
    "    i = int(math.floor(math.log(size_bytes, 1024)))\n",
    "    p = math.pow(1024, i)\n",
    "    s = round(size_bytes / p, 2)\n",
    "    return \"%s %s\" % (s, size_name[i])\n",
    "\n",
    "\n",
    "#get address from file\n",
    "with open(ray_scratch_file) as f:\n",
    "    RAY_NODE_ADDRESS = f.read().strip('\\n')\n",
    "    RAY_NODE_ADDRESS = 'ray://{}:10001'.format(RAY_NODE_ADDRESS)\n",
    "\n",
    "print(RAY_NODE_ADDRESS)"
   ]
  },
  {
   "cell_type": "code",
   "execution_count": 53,
   "id": "7a871f68-b98e-4da7-bf03-a68cbb894bf9",
   "metadata": {},
   "outputs": [
    {
     "data": {
      "text/html": [
       "<div>\n",
       "    <div style=\"margin-left: 50px;display: flex;flex-direction: row;align-items: center\">\n",
       "        <h3 style=\"color: var(--jp-ui-font-color0)\">Ray</h3>\n",
       "        <svg version=\"1.1\" id=\"ray\" width=\"3em\" viewBox=\"0 0 144.5 144.6\" style=\"margin-left: 3em;margin-right: 3em\">\n",
       "            <g id=\"layer-1\">\n",
       "                <path fill=\"#00a2e9\" class=\"st0\" d=\"M97.3,77.2c-3.8-1.1-6.2,0.9-8.3,5.1c-3.5,6.8-9.9,9.9-17.4,9.6S58,88.1,54.8,81.2c-1.4-3-3-4-6.3-4.1\n",
       "                    c-5.6-0.1-9.9,0.1-13.1,6.4c-3.8,7.6-13.6,10.2-21.8,7.6C5.2,88.4-0.4,80.5,0,71.7c0.1-8.4,5.7-15.8,13.8-18.2\n",
       "                    c8.4-2.6,17.5,0.7,22.3,8c1.3,1.9,1.3,5.2,3.6,5.6c3.9,0.6,8,0.2,12,0.2c1.8,0,1.9-1.6,2.4-2.8c3.5-7.8,9.7-11.8,18-11.9\n",
       "                    c8.2-0.1,14.4,3.9,17.8,11.4c1.3,2.8,2.9,3.6,5.7,3.3c1-0.1,2,0.1,3,0c2.8-0.5,6.4,1.7,8.1-2.7s-2.3-5.5-4.1-7.5\n",
       "                    c-5.1-5.7-10.9-10.8-16.1-16.3C84,38,81.9,37.1,78,38.3C66.7,42,56.2,35.7,53,24.1C50.3,14,57.3,2.8,67.7,0.5\n",
       "                    C78.4-2,89,4.7,91.5,15.3c0.1,0.3,0.1,0.5,0.2,0.8c0.7,3.4,0.7,6.9-0.8,9.8c-1.7,3.2-0.8,5,1.5,7.2c6.7,6.5,13.3,13,19.8,19.7\n",
       "                    c1.8,1.8,3,2.1,5.5,1.2c9.1-3.4,17.9-0.6,23.4,7c4.8,6.9,4.6,16.1-0.4,22.9c-5.4,7.2-14.2,9.9-23.1,6.5c-2.3-0.9-3.5-0.6-5.1,1.1\n",
       "                    c-6.7,6.9-13.6,13.7-20.5,20.4c-1.8,1.8-2.5,3.2-1.4,5.9c3.5,8.7,0.3,18.6-7.7,23.6c-7.9,5-18.2,3.8-24.8-2.9\n",
       "                    c-6.4-6.4-7.4-16.2-2.5-24.3c4.9-7.8,14.5-11,23.1-7.8c3,1.1,4.7,0.5,6.9-1.7C91.7,98.4,98,92.3,104.2,86c1.6-1.6,4.1-2.7,2.6-6.2\n",
       "                    c-1.4-3.3-3.8-2.5-6.2-2.6C99.8,77.2,98.9,77.2,97.3,77.2z M72.1,29.7c5.5,0.1,9.9-4.3,10-9.8c0-0.1,0-0.2,0-0.3\n",
       "                    C81.8,14,77,9.8,71.5,10.2c-5,0.3-9,4.2-9.3,9.2c-0.2,5.5,4,10.1,9.5,10.3C71.8,29.7,72,29.7,72.1,29.7z M72.3,62.3\n",
       "                    c-5.4-0.1-9.9,4.2-10.1,9.7c0,0.2,0,0.3,0,0.5c0.2,5.4,4.5,9.7,9.9,10c5.1,0.1,9.9-4.7,10.1-9.8c0.2-5.5-4-10-9.5-10.3\n",
       "                    C72.6,62.3,72.4,62.3,72.3,62.3z M115,72.5c0.1,5.4,4.5,9.7,9.8,9.9c5.6-0.2,10-4.8,10-10.4c-0.2-5.4-4.6-9.7-10-9.7\n",
       "                    c-5.3-0.1-9.8,4.2-9.9,9.5C115,72.1,115,72.3,115,72.5z M19.5,62.3c-5.4,0.1-9.8,4.4-10,9.8c-0.1,5.1,5.2,10.4,10.2,10.3\n",
       "                    c5.6-0.2,10-4.9,9.8-10.5c-0.1-5.4-4.5-9.7-9.9-9.6C19.6,62.3,19.5,62.3,19.5,62.3z M71.8,134.6c5.9,0.2,10.3-3.9,10.4-9.6\n",
       "                    c0.5-5.5-3.6-10.4-9.1-10.8c-5.5-0.5-10.4,3.6-10.8,9.1c0,0.5,0,0.9,0,1.4c-0.2,5.3,4,9.8,9.3,10\n",
       "                    C71.6,134.6,71.7,134.6,71.8,134.6z\"/>\n",
       "            </g>\n",
       "        </svg>\n",
       "        <table>\n",
       "            <tr>\n",
       "                <td style=\"text-align: left\"><b>Python version:</b></td>\n",
       "                <td style=\"text-align: left\"><b>3.8.13</b></td>\n",
       "            </tr>\n",
       "            <tr>\n",
       "                <td style=\"text-align: left\"><b>Ray version:</b></td>\n",
       "                <td style=\"text-align: left\"><b> 2.0.0</b></td>\n",
       "            </tr>\n",
       "            <tr>\n",
       "    <td style=\"text-align: left\"><b>Dashboard:</b></td>\n",
       "    <td style=\"text-align: left\"><b><a href=\"http://127.0.0.1:8265\" target=\"_blank\">http://127.0.0.1:8265</a></b></td>\n",
       "</tr>\n",
       "\n",
       "        </table>\n",
       "    </div>\n",
       "</div>\n"
      ],
      "text/plain": [
       "ClientContext(dashboard_url='127.0.0.1:8265', python_version='3.8.13', ray_version='2.0.0', ray_commit='cba26cc83f6b5b8a2ff166594a65cb74c0ec8740', protocol_version='2022-07-24', _num_clients=1, _context_to_restore=<ray.util.client._ClientContext object at 0x1555225fdf40>)"
      ]
     },
     "execution_count": 53,
     "metadata": {},
     "output_type": "execute_result"
    }
   ],
   "source": [
    "# ray.init(\"ray://10.128.4.224:10001\")\n",
    "ray.init(RAY_NODE_ADDRESS)\n",
    "# ray.init(RAY_NODE_ADDRESS, dashboard_host=\"0.0.0.0\")\n",
    "# ray.init(RAY_NODE_ADDRESS, webui_host=\"0.0.0.0\")"
   ]
  },
  {
   "cell_type": "code",
   "execution_count": 54,
   "id": "8003bdbb-17dc-4ff2-baff-6675f20b66aa",
   "metadata": {},
   "outputs": [
    {
     "name": "stdout",
     "output_type": "stream",
     "text": [
      "[{'NodeID': '2044111d92ccc49d8b064f7f3ed2f7a7c9b080786e25a31f3dac2884', 'Alive': True, 'NodeManagerAddress': 'nid01098', 'NodeManagerHostname': 'nid01098', 'NodeManagerPort': 46509, 'ObjectManagerPort': 38797, 'ObjectStoreSocketName': '/tmp/ray/session_2023-01-24_14-04-59_419096_63838/sockets/plasma_store', 'RayletSocketName': '/tmp/ray/session_2023-01-24_14-04-59_419096_63838/sockets/raylet', 'MetricsExportPort': 59127, 'NodeName': 'nid01098', 'alive': True, 'Resources': {'CPU': 64.0, 'node:nid01098': 1.0, 'memory': 82824243815.0, 'object_store_memory': 39781818777.0}}, {'NodeID': 'a4fa0e1f495ceffe4b01f803f8897b09611dc565840ba756c0b0e1c5', 'Alive': True, 'NodeManagerAddress': '10.128.4.84', 'NodeManagerHostname': 'nid01099', 'NodeManagerPort': 33983, 'ObjectManagerPort': 36107, 'ObjectStoreSocketName': '/tmp/ray/session_2023-01-24_14-04-59_419096_63838/sockets/plasma_store', 'RayletSocketName': '/tmp/ray/session_2023-01-24_14-04-59_419096_63838/sockets/raylet', 'MetricsExportPort': 50771, 'NodeName': '10.128.4.84', 'alive': True, 'Resources': {'object_store_memory': 39702942105.0, 'CPU': 64.0, 'memory': 92640198247.0, 'node:10.128.4.84': 1.0}}]\n"
     ]
    }
   ],
   "source": [
    "nodes = ray.nodes()\n",
    "print(nodes)"
   ]
  },
  {
   "cell_type": "code",
   "execution_count": 55,
   "id": "176f8017-11f5-4b1f-9e4c-ff3af52d9dd7",
   "metadata": {},
   "outputs": [
    {
     "name": "stdout",
     "output_type": "stream",
     "text": [
      "total of 128.0 CPUs and 163.41 GB RAM\n"
     ]
    }
   ],
   "source": [
    "node_resources = ray.cluster_resources()\n",
    "print(\"total of {} CPUs and {} RAM\".format(node_resources['CPU'], convert_size(node_resources['memory'])))\n"
   ]
  },
  {
   "cell_type": "code",
   "execution_count": 23,
   "id": "5de574c9-9845-4b3c-86ac-8c24fb8f1019",
   "metadata": {},
   "outputs": [
    {
     "name": "stdout",
     "output_type": "stream",
     "text": [
      "cori13\n"
     ]
    }
   ],
   "source": [
    "! hostname"
   ]
  },
  {
   "cell_type": "code",
   "execution_count": 60,
   "id": "4699d77c-85ad-4a61-b968-e1e54c09ff47",
   "metadata": {},
   "outputs": [],
   "source": [
    "# Change this to match your cluster scale.\n",
    "NUM_SAMPLING_TASKS = 128\n",
    "NUM_SAMPLES_PER_TASK = 10_000_000\n",
    "TOTAL_NUM_SAMPLES = NUM_SAMPLING_TASKS * NUM_SAMPLES_PER_TASK"
   ]
  },
  {
   "cell_type": "code",
   "execution_count": 61,
   "id": "b792f074-2d9e-4f5b-a4eb-a90a263f58ba",
   "metadata": {},
   "outputs": [],
   "source": [
    "import random\n",
    "import math\n",
    "from typing import Tuple, List\n",
    "\n",
    "def sampling_task(num_samples: int, task_id: int, verbose=True) -> int:\n",
    "    num_inside = 0\n",
    "    for i in range(num_samples):\n",
    "        x, y = random.uniform(-1, 1), random.uniform(-1, 1)\n",
    "        # check if the point is inside the circle\n",
    "        if math.hypot(x, y) <= 1:\n",
    "            num_inside += 1\n",
    "    if verbose:\n",
    "        print(f\"Task id: {task_id} | Samples in the circle: {num_inside}\")\n",
    "    return num_inside\n",
    "\n",
    "@ray.remote\n",
    "def sample_task_distribute(sample_size, i) -> object:\n",
    "    return sampling_task(sample_size, i)\n",
    "\n",
    "def run_disributed(sample_size) -> List[int]:\n",
    "    # Launch Ray remote tasks in a comprehension list, each returns immediately with a future ObjectRef \n",
    "    # Use ray.get to fetch the computed value; this will block until the ObjectRef is resolved or its value is materialized.\n",
    "    results = ray.get([\n",
    "            sample_task_distribute.remote(sample_size, i+1) for i in range(NUM_SAMPLING_TASKS)\n",
    "        ])\n",
    "    return results\n",
    "\n",
    "def calculate_pi(results: List[int]) -> float:\n",
    "    total_num_inside = sum(results)\n",
    "    pi = (total_num_inside * 4) / TOTAL_NUM_SAMPLES\n",
    "    return pi"
   ]
  },
  {
   "cell_type": "code",
   "execution_count": 62,
   "id": "5059183a-f7c8-47aa-9b13-2104661cdeae",
   "metadata": {},
   "outputs": [
    {
     "name": "stdout",
     "output_type": "stream",
     "text": [
      "\u001b[2m\u001b[36m(sample_task_distribute pid=22546, ip=10.128.4.84)\u001b[0m Task id: 39 | Samples in the circle: 7853324\n",
      "\u001b[2m\u001b[36m(sample_task_distribute pid=22593, ip=10.128.4.84)\u001b[0m Task id: 56 | Samples in the circle: 7854255\n",
      "\u001b[2m\u001b[36m(sample_task_distribute pid=22583, ip=10.128.4.84)\u001b[0m Task id: 66 | Samples in the circle: 7852943\n",
      "\u001b[2m\u001b[36m(sample_task_distribute pid=23136, ip=10.128.4.84)\u001b[0m Task id: 48 | Samples in the circle: 7855919\n",
      "\u001b[2m\u001b[36m(sample_task_distribute pid=22575, ip=10.128.4.84)\u001b[0m Task id: 72 | Samples in the circle: 7853361\n",
      "\u001b[2m\u001b[36m(sample_task_distribute pid=22572, ip=10.128.4.84)\u001b[0m Task id: 64 | Samples in the circle: 7853546\n",
      "\u001b[2m\u001b[36m(sample_task_distribute pid=22542, ip=10.128.4.84)\u001b[0m Task id: 40 | Samples in the circle: 7853527\n",
      "\u001b[2m\u001b[36m(sample_task_distribute pid=22568, ip=10.128.4.84)\u001b[0m Task id: 53 | Samples in the circle: 7853396\n",
      "\u001b[2m\u001b[36m(sample_task_distribute pid=64254)\u001b[0m Task id: 13 | Samples in the circle: 7853629\n",
      "\u001b[2m\u001b[36m(sample_task_distribute pid=22545, ip=10.128.4.84)\u001b[0m Task id: 70 | Samples in the circle: 7856067\n",
      "\u001b[2m\u001b[36m(sample_task_distribute pid=22915, ip=10.128.4.84)\u001b[0m Task id: 61 | Samples in the circle: 7855547\n",
      "\u001b[2m\u001b[36m(sample_task_distribute pid=23052, ip=10.128.4.84)\u001b[0m Task id: 38 | Samples in the circle: 7850065\n",
      "\u001b[2m\u001b[36m(sample_task_distribute pid=22555, ip=10.128.4.84)\u001b[0m Task id: 37 | Samples in the circle: 7853102\n",
      "\u001b[2m\u001b[36m(sample_task_distribute pid=64624)\u001b[0m Task id: 29 | Samples in the circle: 7854073\n",
      "\u001b[2m\u001b[36m(sample_task_distribute pid=64628)\u001b[0m Task id: 24 | Samples in the circle: 7853166\n",
      "\u001b[2m\u001b[36m(sample_task_distribute pid=64617)\u001b[0m Task id: 10 | Samples in the circle: 7854822\n",
      "\u001b[2m\u001b[36m(sample_task_distribute pid=64387)\u001b[0m Task id: 7 | Samples in the circle: 7853833\n",
      "\u001b[2m\u001b[36m(sample_task_distribute pid=64487)\u001b[0m Task id: 18 | Samples in the circle: 7851636\n",
      "\u001b[2m\u001b[36m(sample_task_distribute pid=22539, ip=10.128.4.84)\u001b[0m Task id: 97 | Samples in the circle: 7852761\n",
      "\u001b[2m\u001b[36m(sample_task_distribute pid=22552, ip=10.128.4.84)\u001b[0m Task id: 55 | Samples in the circle: 7854053\n",
      "\u001b[2m\u001b[36m(sample_task_distribute pid=22553, ip=10.128.4.84)\u001b[0m Task id: 49 | Samples in the circle: 7852798\n",
      "\u001b[2m\u001b[36m(sample_task_distribute pid=22586, ip=10.128.4.84)\u001b[0m Task id: 47 | Samples in the circle: 7855643\n",
      "\u001b[2m\u001b[36m(sample_task_distribute pid=22578, ip=10.128.4.84)\u001b[0m Task id: 42 | Samples in the circle: 7854338\n",
      "\u001b[2m\u001b[36m(sample_task_distribute pid=22596, ip=10.128.4.84)\u001b[0m Task id: 34 | Samples in the circle: 7851673\n",
      "\u001b[2m\u001b[36m(sample_task_distribute pid=22544, ip=10.128.4.84)\u001b[0m Task id: 54 | Samples in the circle: 7854111\n",
      "\u001b[2m\u001b[36m(sample_task_distribute pid=22954, ip=10.128.4.84)\u001b[0m Task id: 50 | Samples in the circle: 7852065\n",
      "\u001b[2m\u001b[36m(sample_task_distribute pid=23042, ip=10.128.4.84)\u001b[0m Task id: 35 | Samples in the circle: 7854661\n",
      "\u001b[2m\u001b[36m(sample_task_distribute pid=23135, ip=10.128.4.84)\u001b[0m Task id: 68 | Samples in the circle: 7854612\n",
      "\u001b[2m\u001b[36m(sample_task_distribute pid=23122, ip=10.128.4.84)\u001b[0m Task id: 44 | Samples in the circle: 7852895\n",
      "\u001b[2m\u001b[36m(sample_task_distribute pid=22587, ip=10.128.4.84)\u001b[0m Task id: 36 | Samples in the circle: 7855252\n",
      "\u001b[2m\u001b[36m(sample_task_distribute pid=22540, ip=10.128.4.84)\u001b[0m Task id: 104 | Samples in the circle: 7855878\n",
      "\u001b[2m\u001b[36m(sample_task_distribute pid=22564, ip=10.128.4.84)\u001b[0m Task id: 33 | Samples in the circle: 7853892\n",
      "\u001b[2m\u001b[36m(sample_task_distribute pid=64255)\u001b[0m Task id: 6 | Samples in the circle: 7852293\n",
      "\u001b[2m\u001b[36m(sample_task_distribute pid=64250)\u001b[0m Task id: 25 | Samples in the circle: 7853343\n",
      "\u001b[2m\u001b[36m(sample_task_distribute pid=64395)\u001b[0m Task id: 84 | Samples in the circle: 7851699\n",
      "\u001b[2m\u001b[36m(sample_task_distribute pid=64447)\u001b[0m Task id: 14 | Samples in the circle: 7853314\n",
      "\u001b[2m\u001b[36m(sample_task_distribute pid=64627)\u001b[0m Task id: 30 | Samples in the circle: 7854926\n",
      "\u001b[2m\u001b[36m(sample_task_distribute pid=64453)\u001b[0m Task id: 12 | Samples in the circle: 7853502\n",
      "\u001b[2m\u001b[36m(sample_task_distribute pid=64625)\u001b[0m Task id: 28 | Samples in the circle: 7853344\n",
      "\u001b[2m\u001b[36m(sample_task_distribute pid=64425)\u001b[0m Task id: 8 | Samples in the circle: 7853607\n",
      "\u001b[2m\u001b[36m(sample_task_distribute pid=22581, ip=10.128.4.84)\u001b[0m Task id: 76 | Samples in the circle: 7854919\n",
      "\u001b[2m\u001b[36m(sample_task_distribute pid=64478)\u001b[0m Task id: 1 | Samples in the circle: 7853462\n",
      "\u001b[2m\u001b[36m(sample_task_distribute pid=22563, ip=10.128.4.84)\u001b[0m Task id: 86 | Samples in the circle: 7855248\n",
      "\u001b[2m\u001b[36m(sample_task_distribute pid=64431)\u001b[0m Task id: 5 | Samples in the circle: 7852031\n",
      "\u001b[2m\u001b[36m(sample_task_distribute pid=22589, ip=10.128.4.84)\u001b[0m Task id: 92 | Samples in the circle: 7854164\n",
      "\u001b[2m\u001b[36m(sample_task_distribute pid=22536, ip=10.128.4.84)\u001b[0m Task id: 95 | Samples in the circle: 7853380\n",
      "\u001b[2m\u001b[36m(sample_task_distribute pid=22562, ip=10.128.4.84)\u001b[0m Task id: 80 | Samples in the circle: 7853450\n",
      "\u001b[2m\u001b[36m(sample_task_distribute pid=22584, ip=10.128.4.84)\u001b[0m Task id: 74 | Samples in the circle: 7856152\n",
      "\u001b[2m\u001b[36m(sample_task_distribute pid=22557, ip=10.128.4.84)\u001b[0m Task id: 85 | Samples in the circle: 7853906\n",
      "\u001b[2m\u001b[36m(sample_task_distribute pid=22579, ip=10.128.4.84)\u001b[0m Task id: 41 | Samples in the circle: 7854755\n",
      "\u001b[2m\u001b[36m(sample_task_distribute pid=22576, ip=10.128.4.84)\u001b[0m Task id: 63 | Samples in the circle: 7853781\n",
      "\u001b[2m\u001b[36m(sample_task_distribute pid=22582, ip=10.128.4.84)\u001b[0m Task id: 51 | Samples in the circle: 7851330\n",
      "\u001b[2m\u001b[36m(sample_task_distribute pid=22558, ip=10.128.4.84)\u001b[0m Task id: 58 | Samples in the circle: 7851974\n",
      "\u001b[2m\u001b[36m(sample_task_distribute pid=22592, ip=10.128.4.84)\u001b[0m Task id: 59 | Samples in the circle: 7853670\n",
      "\u001b[2m\u001b[36m(sample_task_distribute pid=22559, ip=10.128.4.84)\u001b[0m Task id: 46 | Samples in the circle: 7853840\n",
      "\u001b[2m\u001b[36m(sample_task_distribute pid=22880, ip=10.128.4.84)\u001b[0m Task id: 62 | Samples in the circle: 7852625\n",
      "\u001b[2m\u001b[36m(sample_task_distribute pid=22585, ip=10.128.4.84)\u001b[0m Task id: 45 | Samples in the circle: 7851517\n",
      "\u001b[2m\u001b[36m(sample_task_distribute pid=22565, ip=10.128.4.84)\u001b[0m Task id: 112 | Samples in the circle: 7851241\n",
      "\u001b[2m\u001b[36m(sample_task_distribute pid=22570, ip=10.128.4.84)\u001b[0m Task id: 117 | Samples in the circle: 7854587\n",
      "\u001b[2m\u001b[36m(sample_task_distribute pid=22574, ip=10.128.4.84)\u001b[0m Task id: 82 | Samples in the circle: 7855142\n",
      "\u001b[2m\u001b[36m(sample_task_distribute pid=22554, ip=10.128.4.84)\u001b[0m Task id: 106 | Samples in the circle: 7854249\n",
      "\u001b[2m\u001b[36m(sample_task_distribute pid=22573, ip=10.128.4.84)\u001b[0m Task id: 111 | Samples in the circle: 7854606\n",
      "\u001b[2m\u001b[36m(sample_task_distribute pid=64252)\u001b[0m Task id: 69 | Samples in the circle: 7852754\n",
      "\u001b[2m\u001b[36m(sample_task_distribute pid=64256)\u001b[0m Task id: 71 | Samples in the circle: 7852539\n",
      "\u001b[2m\u001b[36m(sample_task_distribute pid=64253)\u001b[0m Task id: 17 | Samples in the circle: 7854284\n",
      "\u001b[2m\u001b[36m(sample_task_distribute pid=64258)\u001b[0m Task id: 23 | Samples in the circle: 7854190\n",
      "\u001b[2m\u001b[36m(sample_task_distribute pid=64422)\u001b[0m Task id: 26 | Samples in the circle: 7855266\n",
      "\u001b[2m\u001b[36m(sample_task_distribute pid=64629)\u001b[0m Task id: 83 | Samples in the circle: 7853255\n",
      "\u001b[2m\u001b[36m(sample_task_distribute pid=64620)\u001b[0m Task id: 27 | Samples in the circle: 7852350\n",
      "\u001b[2m\u001b[36m(sample_task_distribute pid=64411)\u001b[0m Task id: 9 | Samples in the circle: 7854009\n",
      "\u001b[2m\u001b[36m(sample_task_distribute pid=64415)\u001b[0m Task id: 11 | Samples in the circle: 7852488\n",
      "\u001b[2m\u001b[36m(sample_task_distribute pid=22541, ip=10.128.4.84)\u001b[0m Task id: 93 | Samples in the circle: 7855151\n",
      "\u001b[2m\u001b[36m(sample_task_distribute pid=22547, ip=10.128.4.84)\u001b[0m Task id: 43 | Samples in the circle: 7854517\n",
      "\u001b[2m\u001b[36m(sample_task_distribute pid=23104, ip=10.128.4.84)\u001b[0m Task id: 52 | Samples in the circle: 7853575\n",
      "\u001b[2m\u001b[36m(sample_task_distribute pid=22549, ip=10.128.4.84)\u001b[0m Task id: 113 | Samples in the circle: 7855515\n",
      "\u001b[2m\u001b[36m(sample_task_distribute pid=22591, ip=10.128.4.84)\u001b[0m Task id: 114 | Samples in the circle: 7855246\n",
      "\u001b[2m\u001b[36m(sample_task_distribute pid=22597, ip=10.128.4.84)\u001b[0m Task id: 115 | Samples in the circle: 7854943\n",
      "\u001b[2m\u001b[36m(sample_task_distribute pid=22566, ip=10.128.4.84)\u001b[0m Task id: 105 | Samples in the circle: 7851776\n",
      "\u001b[2m\u001b[36m(sample_task_distribute pid=22561, ip=10.128.4.84)\u001b[0m Task id: 108 | Samples in the circle: 7855776\n",
      "\u001b[2m\u001b[36m(sample_task_distribute pid=22569, ip=10.128.4.84)\u001b[0m Task id: 103 | Samples in the circle: 7855074\n",
      "\u001b[2m\u001b[36m(sample_task_distribute pid=22580, ip=10.128.4.84)\u001b[0m Task id: 78 | Samples in the circle: 7855875\n",
      "\u001b[2m\u001b[36m(sample_task_distribute pid=64260)\u001b[0m Task id: 3 | Samples in the circle: 7855967\n",
      "\u001b[2m\u001b[36m(sample_task_distribute pid=64261)\u001b[0m Task id: 15 | Samples in the circle: 7853328\n",
      "\u001b[2m\u001b[36m(sample_task_distribute pid=64414)\u001b[0m Task id: 77 | Samples in the circle: 7852318\n",
      "\u001b[2m\u001b[36m(sample_task_distribute pid=64424)\u001b[0m Task id: 31 | Samples in the circle: 7853601\n",
      "\u001b[2m\u001b[36m(sample_task_distribute pid=64486)\u001b[0m Task id: 79 | Samples in the circle: 7853095\n",
      "\u001b[2m\u001b[36m(sample_task_distribute pid=64606)\u001b[0m Task id: 81 | Samples in the circle: 7855098\n",
      "\u001b[2m\u001b[36m(sample_task_distribute pid=64626)\u001b[0m Task id: 75 | Samples in the circle: 7853489\n",
      "\u001b[2m\u001b[36m(sample_task_distribute pid=64427)\u001b[0m Task id: 2 | Samples in the circle: 7853375\n",
      "\u001b[2m\u001b[36m(sample_task_distribute pid=64407)\u001b[0m Task id: 4 | Samples in the circle: 7854312\n",
      "\u001b[2m\u001b[36m(sample_task_distribute pid=64384)\u001b[0m Task id: 98 | Samples in the circle: 7851569\n",
      "\u001b[2m\u001b[36m(sample_task_distribute pid=64370)\u001b[0m Task id: 65 | Samples in the circle: 7854963\n",
      "\u001b[2m\u001b[36m(sample_task_distribute pid=64413)\u001b[0m Task id: 32 | Samples in the circle: 7853419\n",
      "\u001b[2m\u001b[36m(sample_task_distribute pid=64402)\u001b[0m Task id: 21 | Samples in the circle: 7854038\n",
      "\u001b[2m\u001b[36m(sample_task_distribute pid=22590, ip=10.128.4.84)\u001b[0m Task id: 94 | Samples in the circle: 7854162\n",
      "\u001b[2m\u001b[36m(sample_task_distribute pid=22889, ip=10.128.4.84)\u001b[0m Task id: 60 | Samples in the circle: 7855812\n",
      "\u001b[2m\u001b[36m(sample_task_distribute pid=22595, ip=10.128.4.84)\u001b[0m Task id: 109 | Samples in the circle: 7852618\n",
      "\u001b[2m\u001b[36m(sample_task_distribute pid=22571, ip=10.128.4.84)\u001b[0m Task id: 107 | Samples in the circle: 7854373\n",
      "\u001b[2m\u001b[36m(sample_task_distribute pid=64251)\u001b[0m Task id: 67 | Samples in the circle: 7853773\n",
      "\u001b[2m\u001b[36m(sample_task_distribute pid=64385)\u001b[0m Task id: 19 | Samples in the circle: 7851661\n",
      "\u001b[2m\u001b[36m(sample_task_distribute pid=64408)\u001b[0m Task id: 90 | Samples in the circle: 7852659\n",
      "\u001b[2m\u001b[36m(sample_task_distribute pid=64426)\u001b[0m Task id: 100 | Samples in the circle: 7854135\n",
      "\u001b[2m\u001b[36m(sample_task_distribute pid=64476)\u001b[0m Task id: 125 | Samples in the circle: 7852329\n",
      "\u001b[2m\u001b[36m(sample_task_distribute pid=22567, ip=10.128.4.84)\u001b[0m Task id: 57 | Samples in the circle: 7852043\n",
      "\u001b[2m\u001b[36m(sample_task_distribute pid=22556, ip=10.128.4.84)\u001b[0m Task id: 116 | Samples in the circle: 7853271\n",
      "\u001b[2m\u001b[36m(sample_task_distribute pid=64405)\u001b[0m Task id: 16 | Samples in the circle: 7851983\n",
      "\u001b[2m\u001b[36m(sample_task_distribute pid=64432)\u001b[0m Task id: 73 | Samples in the circle: 7853797\n",
      "\u001b[2m\u001b[36m(sample_task_distribute pid=64403)\u001b[0m Task id: 101 | Samples in the circle: 7854076\n",
      "\u001b[2m\u001b[36m(sample_task_distribute pid=64430)\u001b[0m Task id: 99 | Samples in the circle: 7854179\n",
      "\u001b[2m\u001b[36m(sample_task_distribute pid=64409)\u001b[0m Task id: 88 | Samples in the circle: 7855139\n",
      "\u001b[2m\u001b[36m(sample_task_distribute pid=64460)\u001b[0m Task id: 118 | Samples in the circle: 7854827\n",
      "\u001b[2m\u001b[36m(sample_task_distribute pid=64406)\u001b[0m Task id: 126 | Samples in the circle: 7852792\n",
      "\u001b[2m\u001b[36m(sample_task_distribute pid=64257)\u001b[0m Task id: 20 | Samples in the circle: 7855016\n",
      "\u001b[2m\u001b[36m(sample_task_distribute pid=64622)\u001b[0m Task id: 22 | Samples in the circle: 7854161\n",
      "\u001b[2m\u001b[36m(sample_task_distribute pid=64412)\u001b[0m Task id: 89 | Samples in the circle: 7853228\n",
      "\u001b[2m\u001b[36m(sample_task_distribute pid=64392)\u001b[0m Task id: 96 | Samples in the circle: 7854873\n",
      "\u001b[2m\u001b[36m(sample_task_distribute pid=64610)\u001b[0m Task id: 87 | Samples in the circle: 7852674\n",
      "\u001b[2m\u001b[36m(sample_task_distribute pid=64369)\u001b[0m Task id: 127 | Samples in the circle: 7854890\n",
      "\u001b[2m\u001b[36m(sample_task_distribute pid=64484)\u001b[0m Task id: 128 | Samples in the circle: 7857782\n",
      "\u001b[2m\u001b[36m(sample_task_distribute pid=64393)\u001b[0m Task id: 121 | Samples in the circle: 7853512\n",
      "\u001b[2m\u001b[36m(sample_task_distribute pid=64404)\u001b[0m Task id: 123 | Samples in the circle: 7855212\n",
      "\u001b[2m\u001b[36m(sample_task_distribute pid=64410)\u001b[0m Task id: 124 | Samples in the circle: 7852411\n",
      "\u001b[2m\u001b[36m(sample_task_distribute pid=22550, ip=10.128.4.84)\u001b[0m Task id: 102 | Samples in the circle: 7852930\n",
      "\u001b[2m\u001b[36m(sample_task_distribute pid=22598, ip=10.128.4.84)\u001b[0m Task id: 110 | Samples in the circle: 7851895\n",
      "\u001b[2m\u001b[36m(sample_task_distribute pid=64386)\u001b[0m Task id: 119 | Samples in the circle: 7853778\n",
      "\u001b[2m\u001b[36m(sample_task_distribute pid=64457)\u001b[0m Task id: 120 | Samples in the circle: 7856152\n",
      "\u001b[2m\u001b[36m(sample_task_distribute pid=64394)\u001b[0m Task id: 122 | Samples in the circle: 7853823\n",
      "\u001b[2m\u001b[36m(sample_task_distribute pid=64378)\u001b[0m Task id: 91 | Samples in the circle: 7854006\n",
      "\u001b[2m\u001b[36m(sample_task_distribute pid=64627)\u001b[0m Task id: 150 | Samples in the circle: 7856275\n",
      "\u001b[2m\u001b[36m(sample_task_distribute pid=22575, ip=10.128.4.84)\u001b[0m Task id: 130 | Samples in the circle: 7853817\n",
      "\u001b[2m\u001b[36m(sample_task_distribute pid=22572, ip=10.128.4.84)\u001b[0m Task id: 133 | Samples in the circle: 7854078\n",
      "\u001b[2m\u001b[36m(sample_task_distribute pid=22564, ip=10.128.4.84)\u001b[0m Task id: 147 | Samples in the circle: 7856828\n",
      "\u001b[2m\u001b[36m(sample_task_distribute pid=22542, ip=10.128.4.84)\u001b[0m Task id: 131 | Samples in the circle: 7853837\n",
      "\u001b[2m\u001b[36m(sample_task_distribute pid=22593, ip=10.128.4.84)\u001b[0m Task id: 129 | Samples in the circle: 7852494\n",
      "\u001b[2m\u001b[36m(sample_task_distribute pid=22586, ip=10.128.4.84)\u001b[0m Task id: 144 | Samples in the circle: 7851709\n",
      "\u001b[2m\u001b[36m(sample_task_distribute pid=64628)\u001b[0m Task id: 135 | Samples in the circle: 7852643\n",
      "\u001b[2m\u001b[36m(sample_task_distribute pid=64617)\u001b[0m Task id: 139 | Samples in the circle: 7853397\n",
      "\u001b[2m\u001b[36m(sample_task_distribute pid=64431)\u001b[0m Task id: 170 | Samples in the circle: 7854405\n",
      "\u001b[2m\u001b[36m(sample_task_distribute pid=22552, ip=10.128.4.84)\u001b[0m Task id: 137 | Samples in the circle: 7853943\n",
      "\u001b[2m\u001b[36m(sample_task_distribute pid=22553, ip=10.128.4.84)\u001b[0m Task id: 146 | Samples in the circle: 7853494\n",
      "\u001b[2m\u001b[36m(sample_task_distribute pid=22558, ip=10.128.4.84)\u001b[0m Task id: 154 | Samples in the circle: 7853184\n",
      "\u001b[2m\u001b[36m(sample_task_distribute pid=22568, ip=10.128.4.84)\u001b[0m Task id: 132 | Samples in the circle: 7854729\n",
      "\u001b[2m\u001b[36m(sample_task_distribute pid=22578, ip=10.128.4.84)\u001b[0m Task id: 143 | Samples in the circle: 7853864\n",
      "\u001b[2m\u001b[36m(sample_task_distribute pid=23135, ip=10.128.4.84)\u001b[0m Task id: 148 | Samples in the circle: 7852979\n",
      "\u001b[2m\u001b[36m(sample_task_distribute pid=22539, ip=10.128.4.84)\u001b[0m Task id: 145 | Samples in the circle: 7854522\n",
      "\u001b[2m\u001b[36m(sample_task_distribute pid=22582, ip=10.128.4.84)\u001b[0m Task id: 157 | Samples in the circle: 7855782\n",
      "\u001b[2m\u001b[36m(sample_task_distribute pid=64254)\u001b[0m Task id: 134 | Samples in the circle: 7852900\n",
      "\u001b[2m\u001b[36m(sample_task_distribute pid=64422)\u001b[0m Task id: 207 | Samples in the circle: 7855189\n",
      "\u001b[2m\u001b[36m(sample_task_distribute pid=64624)\u001b[0m Task id: 140 | Samples in the circle: 7854021\n",
      "\u001b[2m\u001b[36m(sample_task_distribute pid=64620)\u001b[0m Task id: 190 | Samples in the circle: 7853581\n",
      "\u001b[2m\u001b[36m(sample_task_distribute pid=22545, ip=10.128.4.84)\u001b[0m Task id: 199 | Samples in the circle: 7852978\n",
      "\u001b[2m\u001b[36m(sample_task_distribute pid=22536, ip=10.128.4.84)\u001b[0m Task id: 164 | Samples in the circle: 7853985\n",
      "\u001b[2m\u001b[36m(sample_task_distribute pid=22592, ip=10.128.4.84)\u001b[0m Task id: 188 | Samples in the circle: 7854156\n",
      "\u001b[2m\u001b[36m(sample_task_distribute pid=23122, ip=10.128.4.84)\u001b[0m Task id: 138 | Samples in the circle: 7854222\n",
      "\u001b[2m\u001b[36m(sample_task_distribute pid=22555, ip=10.128.4.84)\u001b[0m Task id: 198 | Samples in the circle: 7852973\n",
      "\u001b[2m\u001b[36m(sample_task_distribute pid=22587, ip=10.128.4.84)\u001b[0m Task id: 136 | Samples in the circle: 7852744\n",
      "\u001b[2m\u001b[36m(sample_task_distribute pid=22565, ip=10.128.4.84)\u001b[0m Task id: 165 | Samples in the circle: 7852417\n",
      "\u001b[2m\u001b[36m(sample_task_distribute pid=22597, ip=10.128.4.84)\u001b[0m Task id: 174 | Samples in the circle: 7853720\n",
      "\u001b[2m\u001b[36m(sample_task_distribute pid=22566, ip=10.128.4.84)\u001b[0m Task id: 180 | Samples in the circle: 7852248\n",
      "\u001b[2m\u001b[36m(sample_task_distribute pid=22561, ip=10.128.4.84)\u001b[0m Task id: 177 | Samples in the circle: 7852234\n",
      "\u001b[2m\u001b[36m(sample_task_distribute pid=22569, ip=10.128.4.84)\u001b[0m Task id: 176 | Samples in the circle: 7855470\n",
      "\u001b[2m\u001b[36m(sample_task_distribute pid=22540, ip=10.128.4.84)\u001b[0m Task id: 196 | Samples in the circle: 7855272\n",
      "\u001b[2m\u001b[36m(sample_task_distribute pid=64256)\u001b[0m Task id: 172 | Samples in the circle: 7856268\n",
      "\u001b[2m\u001b[36m(sample_task_distribute pid=64487)\u001b[0m Task id: 142 | Samples in the circle: 7855739\n",
      "\u001b[2m\u001b[36m(sample_task_distribute pid=64629)\u001b[0m Task id: 204 | Samples in the circle: 7853152\n",
      "\u001b[2m\u001b[36m(sample_task_distribute pid=22541, ip=10.128.4.84)\u001b[0m Task id: 175 | Samples in the circle: 7854523\n",
      "\u001b[2m\u001b[36m(sample_task_distribute pid=22576, ip=10.128.4.84)\u001b[0m Task id: 153 | Samples in the circle: 7855159\n",
      "\u001b[2m\u001b[36m(sample_task_distribute pid=22583, ip=10.128.4.84)\u001b[0m Task id: 201 | Samples in the circle: 7855137\n",
      "\u001b[2m\u001b[36m(sample_task_distribute pid=23136, ip=10.128.4.84)\u001b[0m Task id: 202 | Samples in the circle: 7854705\n",
      "\u001b[2m\u001b[36m(sample_task_distribute pid=22915, ip=10.128.4.84)\u001b[0m Task id: 200 | Samples in the circle: 7852760\n",
      "\u001b[2m\u001b[36m(sample_task_distribute pid=22585, ip=10.128.4.84)\u001b[0m Task id: 166 | Samples in the circle: 7854302\n",
      "\u001b[2m\u001b[36m(sample_task_distribute pid=22570, ip=10.128.4.84)\u001b[0m Task id: 185 | Samples in the circle: 7855090\n",
      "\u001b[2m\u001b[36m(sample_task_distribute pid=64395)\u001b[0m Task id: 168 | Samples in the circle: 7852839\n",
      "\u001b[2m\u001b[36m(sample_task_distribute pid=64453)\u001b[0m Task id: 171 | Samples in the circle: 7853955\n",
      "\u001b[2m\u001b[36m(sample_task_distribute pid=64425)\u001b[0m Task id: 160 | Samples in the circle: 7853570\n",
      "\u001b[2m\u001b[36m(sample_task_distribute pid=64478)\u001b[0m Task id: 151 | Samples in the circle: 7852223\n",
      "\u001b[2m\u001b[36m(sample_task_distribute pid=64387)\u001b[0m Task id: 141 | Samples in the circle: 7853657\n",
      "\u001b[2m\u001b[36m(sample_task_distribute pid=64411)\u001b[0m Task id: 178 | Samples in the circle: 7852287\n",
      "\u001b[2m\u001b[36m(sample_task_distribute pid=64384)\u001b[0m Task id: 216 | Samples in the circle: 7854935\n",
      "\u001b[2m\u001b[36m(sample_task_distribute pid=22581, ip=10.128.4.84)\u001b[0m Task id: 155 | Samples in the circle: 7851486\n",
      "\u001b[2m\u001b[36m(sample_task_distribute pid=22563, ip=10.128.4.84)\u001b[0m Task id: 186 | Samples in the circle: 7854434\n",
      "\u001b[2m\u001b[36m(sample_task_distribute pid=22589, ip=10.128.4.84)\u001b[0m Task id: 156 | Samples in the circle: 7853266\n",
      "\u001b[2m\u001b[36m(sample_task_distribute pid=22562, ip=10.128.4.84)\u001b[0m Task id: 189 | Samples in the circle: 7852704\n",
      "\u001b[2m\u001b[36m(sample_task_distribute pid=22584, ip=10.128.4.84)\u001b[0m Task id: 163 | Samples in the circle: 7851971\n",
      "\u001b[2m\u001b[36m(sample_task_distribute pid=22557, ip=10.128.4.84)\u001b[0m Task id: 159 | Samples in the circle: 7853638\n",
      "\u001b[2m\u001b[36m(sample_task_distribute pid=22546, ip=10.128.4.84)\u001b[0m Task id: 203 | Samples in the circle: 7852345\n",
      "\u001b[2m\u001b[36m(sample_task_distribute pid=22579, ip=10.128.4.84)\u001b[0m Task id: 167 | Samples in the circle: 7852390\n",
      "\u001b[2m\u001b[36m(sample_task_distribute pid=22567, ip=10.128.4.84)\u001b[0m Task id: 226 | Samples in the circle: 7856478\n",
      "\u001b[2m\u001b[36m(sample_task_distribute pid=22596, ip=10.128.4.84)\u001b[0m Task id: 194 | Samples in the circle: 7854198\n",
      "\u001b[2m\u001b[36m(sample_task_distribute pid=22559, ip=10.128.4.84)\u001b[0m Task id: 161 | Samples in the circle: 7854890\n",
      "\u001b[2m\u001b[36m(sample_task_distribute pid=22954, ip=10.128.4.84)\u001b[0m Task id: 192 | Samples in the circle: 7854058\n",
      "\u001b[2m\u001b[36m(sample_task_distribute pid=23042, ip=10.128.4.84)\u001b[0m Task id: 191 | Samples in the circle: 7853378\n",
      "\u001b[2m\u001b[36m(sample_task_distribute pid=23052, ip=10.128.4.84)\u001b[0m Task id: 197 | Samples in the circle: 7852970\n",
      "\u001b[2m\u001b[36m(sample_task_distribute pid=22549, ip=10.128.4.84)\u001b[0m Task id: 173 | Samples in the circle: 7854504\n",
      "\u001b[2m\u001b[36m(sample_task_distribute pid=22591, ip=10.128.4.84)\u001b[0m Task id: 214 | Samples in the circle: 7852322\n",
      "\u001b[2m\u001b[36m(sample_task_distribute pid=22554, ip=10.128.4.84)\u001b[0m Task id: 182 | Samples in the circle: 7853881\n",
      "\u001b[2m\u001b[36m(sample_task_distribute pid=22571, ip=10.128.4.84)\u001b[0m Task id: 225 | Samples in the circle: 7854057\n",
      "\u001b[2m\u001b[36m(sample_task_distribute pid=64255)\u001b[0m Task id: 149 | Samples in the circle: 7851636\n",
      "\u001b[2m\u001b[36m(sample_task_distribute pid=64261)\u001b[0m Task id: 221 | Samples in the circle: 7852298\n",
      "\u001b[2m\u001b[36m(sample_task_distribute pid=64251)\u001b[0m Task id: 232 | Samples in the circle: 7851869\n",
      "\u001b[2m\u001b[36m(sample_task_distribute pid=22574, ip=10.128.4.84)\u001b[0m Task id: 183 | Samples in the circle: 7854738\n",
      "\u001b[2m\u001b[36m(sample_task_distribute pid=22547, ip=10.128.4.84)\u001b[0m Task id: 179 | Samples in the circle: 7856205\n",
      "\u001b[2m\u001b[36m(sample_task_distribute pid=22544, ip=10.128.4.84)\u001b[0m Task id: 193 | Samples in the circle: 7855290\n",
      "\u001b[2m\u001b[36m(sample_task_distribute pid=22889, ip=10.128.4.84)\u001b[0m Task id: 212 | Samples in the circle: 7853372\n",
      "\u001b[2m\u001b[36m(sample_task_distribute pid=23104, ip=10.128.4.84)\u001b[0m Task id: 195 | Samples in the circle: 7853915\n",
      "\u001b[2m\u001b[36m(sample_task_distribute pid=22880, ip=10.128.4.84)\u001b[0m Task id: 162 | Samples in the circle: 7853938\n",
      "\u001b[2m\u001b[36m(sample_task_distribute pid=22595, ip=10.128.4.84)\u001b[0m Task id: 220 | Samples in the circle: 7852707\n",
      "\u001b[2m\u001b[36m(sample_task_distribute pid=22573, ip=10.128.4.84)\u001b[0m Task id: 181 | Samples in the circle: 7853015\n",
      "\u001b[2m\u001b[36m(sample_task_distribute pid=22556, ip=10.128.4.84)\u001b[0m Task id: 229 | Samples in the circle: 7854388\n",
      "\u001b[2m\u001b[36m(sample_task_distribute pid=22580, ip=10.128.4.84)\u001b[0m Task id: 213 | Samples in the circle: 7854367\n",
      "\u001b[2m\u001b[36m(sample_task_distribute pid=64260)\u001b[0m Task id: 209 | Samples in the circle: 7852752\n",
      "\u001b[2m\u001b[36m(sample_task_distribute pid=64253)\u001b[0m Task id: 187 | Samples in the circle: 7854188\n",
      "\u001b[2m\u001b[36m(sample_task_distribute pid=64250)\u001b[0m Task id: 152 | Samples in the circle: 7853842\n",
      "\u001b[2m\u001b[36m(sample_task_distribute pid=64447)\u001b[0m Task id: 158 | Samples in the circle: 7851951\n",
      "\u001b[2m\u001b[36m(sample_task_distribute pid=64626)\u001b[0m Task id: 217 | Samples in the circle: 7853507\n",
      "\u001b[2m\u001b[36m(sample_task_distribute pid=64625)\u001b[0m Task id: 169 | Samples in the circle: 7854350\n",
      "\u001b[2m\u001b[36m(sample_task_distribute pid=64392)\u001b[0m Task id: 235 | Samples in the circle: 7850240\n",
      "\u001b[2m\u001b[36m(sample_task_distribute pid=64610)\u001b[0m Task id: 237 | Samples in the circle: 7853366\n",
      "\u001b[2m\u001b[36m(sample_task_distribute pid=22590, ip=10.128.4.84)\u001b[0m Task id: 211 | Samples in the circle: 7854324\n",
      "\u001b[2m\u001b[36m(sample_task_distribute pid=64252)\u001b[0m Task id: 206 | Samples in the circle: 7853443\n",
      "\u001b[2m\u001b[36m(sample_task_distribute pid=64486)\u001b[0m Task id: 218 | Samples in the circle: 7854605\n",
      "\u001b[2m\u001b[36m(sample_task_distribute pid=64606)\u001b[0m Task id: 222 | Samples in the circle: 7856860\n",
      "\u001b[2m\u001b[36m(sample_task_distribute pid=64413)\u001b[0m Task id: 224 | Samples in the circle: 7854052\n",
      "\u001b[2m\u001b[36m(sample_task_distribute pid=64412)\u001b[0m Task id: 240 | Samples in the circle: 7855389\n",
      "\u001b[2m\u001b[36m(sample_task_distribute pid=64408)\u001b[0m Task id: 227 | Samples in the circle: 7852943\n",
      "\u001b[2m\u001b[36m(sample_task_distribute pid=22598, ip=10.128.4.84)\u001b[0m Task id: 248 | Samples in the circle: 7854615\n",
      "\u001b[2m\u001b[36m(sample_task_distribute pid=64258)\u001b[0m Task id: 184 | Samples in the circle: 7855295\n",
      "\u001b[2m\u001b[36m(sample_task_distribute pid=64414)\u001b[0m Task id: 208 | Samples in the circle: 7854647\n",
      "\u001b[2m\u001b[36m(sample_task_distribute pid=64424)\u001b[0m Task id: 215 | Samples in the circle: 7852091\n",
      "\u001b[2m\u001b[36m(sample_task_distribute pid=64415)\u001b[0m Task id: 205 | Samples in the circle: 7852663\n",
      "\u001b[2m\u001b[36m(sample_task_distribute pid=64426)\u001b[0m Task id: 230 | Samples in the circle: 7853288\n",
      "\u001b[2m\u001b[36m(sample_task_distribute pid=64409)\u001b[0m Task id: 245 | Samples in the circle: 7854649\n",
      "\u001b[2m\u001b[36m(sample_task_distribute pid=64484)\u001b[0m Task id: 234 | Samples in the circle: 7856675\n",
      "\u001b[2m\u001b[36m(sample_task_distribute pid=64404)\u001b[0m Task id: 242 | Samples in the circle: 7853300\n",
      "\u001b[2m\u001b[36m(sample_task_distribute pid=64476)\u001b[0m Task id: 228 | Samples in the circle: 7854559\n",
      "\u001b[2m\u001b[36m(sample_task_distribute pid=22550, ip=10.128.4.84)\u001b[0m Task id: 233 | Samples in the circle: 7854222\n",
      "\u001b[2m\u001b[36m(sample_task_distribute pid=64402)\u001b[0m Task id: 223 | Samples in the circle: 7850948\n",
      "\u001b[2m\u001b[36m(sample_task_distribute pid=64622)\u001b[0m Task id: 239 | Samples in the circle: 7853954\n",
      "\u001b[2m\u001b[36m(sample_task_distribute pid=64407)\u001b[0m Task id: 210 | Samples in the circle: 7854979\n",
      "\u001b[2m\u001b[36m(sample_task_distribute pid=64403)\u001b[0m Task id: 246 | Samples in the circle: 7851514\n",
      "\u001b[2m\u001b[36m(sample_task_distribute pid=64369)\u001b[0m Task id: 241 | Samples in the circle: 7853117\n",
      "\u001b[2m\u001b[36m(sample_task_distribute pid=64460)\u001b[0m Task id: 244 | Samples in the circle: 7852050\n",
      "\u001b[2m\u001b[36m(sample_task_distribute pid=64385)\u001b[0m Task id: 231 | Samples in the circle: 7854186\n",
      "\u001b[2m\u001b[36m(sample_task_distribute pid=64427)\u001b[0m Task id: 219 | Samples in the circle: 7852803\n",
      "\u001b[2m\u001b[36m(sample_task_distribute pid=64430)\u001b[0m Task id: 247 | Samples in the circle: 7856046\n",
      "\u001b[2m\u001b[36m(sample_task_distribute pid=64393)\u001b[0m Task id: 236 | Samples in the circle: 7853270\n",
      "\u001b[2m\u001b[36m(sample_task_distribute pid=64410)\u001b[0m Task id: 238 | Samples in the circle: 7852232\n",
      "\u001b[2m\u001b[36m(sample_task_distribute pid=64370)\u001b[0m Task id: 256 | Samples in the circle: 7853635\n",
      "\u001b[2m\u001b[36m(sample_task_distribute pid=64257)\u001b[0m Task id: 243 | Samples in the circle: 7853685\n",
      "\u001b[2m\u001b[36m(sample_task_distribute pid=64406)\u001b[0m Task id: 254 | Samples in the circle: 7855048\n",
      "\u001b[2m\u001b[36m(sample_task_distribute pid=64378)\u001b[0m Task id: 249 | Samples in the circle: 7852800\n",
      "\u001b[2m\u001b[36m(sample_task_distribute pid=64394)\u001b[0m Task id: 250 | Samples in the circle: 7856204\n",
      "\u001b[2m\u001b[36m(sample_task_distribute pid=64457)\u001b[0m Task id: 251 | Samples in the circle: 7853987\n",
      "\u001b[2m\u001b[36m(sample_task_distribute pid=64405)\u001b[0m Task id: 253 | Samples in the circle: 7855180\n",
      "CPU times: user 302 ms, sys: 139 ms, total: 440 ms\n",
      "Wall time: 38.7 s\n"
     ]
    }
   ],
   "source": [
    "%%time\n",
    "results = run_disributed(NUM_SAMPLES_PER_TASK)\n",
    "pi = calculate_pi(results)"
   ]
  },
  {
   "cell_type": "code",
   "execution_count": 64,
   "id": "9a6c99d2-b247-47a2-9744-b0e2d8af4b3c",
   "metadata": {},
   "outputs": [
    {
     "name": "stdout",
     "output_type": "stream",
     "text": [
      "Estimated value of π is: 3.141518\n"
     ]
    }
   ],
   "source": [
    "print(f\"Estimated value of π is: {pi:5f}\")"
   ]
  },
  {
   "cell_type": "code",
   "execution_count": 65,
   "id": "6edeebd7-5ec0-41b2-bf83-6a22bf853541",
   "metadata": {},
   "outputs": [],
   "source": [
    "ray.shutdown()"
   ]
  },
  {
   "cell_type": "code",
   "execution_count": null,
   "id": "95c460db-3b16-43b4-9479-62761900a670",
   "metadata": {},
   "outputs": [],
   "source": []
  }
 ],
 "metadata": {
  "kernelspec": {
   "display_name": "ray_ml_env",
   "language": "python",
   "name": "ray_ml_env"
  },
  "language_info": {
   "codemirror_mode": {
    "name": "ipython",
    "version": 3
   },
   "file_extension": ".py",
   "mimetype": "text/x-python",
   "name": "python",
   "nbconvert_exporter": "python",
   "pygments_lexer": "ipython3",
   "version": "3.8.13"
  }
 },
 "nbformat": 4,
 "nbformat_minor": 5
}
