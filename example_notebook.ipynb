{
 "cells": [
  {
   "cell_type": "markdown",
   "id": "991de4c8-b56a-47e7-aa1d-1018834b7e57",
   "metadata": {},
   "source": [
    "# Ray hyperparameter optimization Notebook"
   ]
  },
  {
   "cell_type": "code",
   "execution_count": 73,
   "id": "25c93f65-93aa-4f14-8e66-618a2eef3064",
   "metadata": {},
   "outputs": [],
   "source": [
    "import uuid\n",
    "import os\n",
    "\n",
    "tmp_ray_folder = os.getenv('SCRATCH') + '/ray_cluster'\n",
    "os.makedirs(tmp_ray_folder, exist_ok=True)\n",
    "tmp_ray_address_file = os.path.join(tmp_ray_folder, str(uuid.uuid4()))\n",
    "\n",
    "# Config\n",
    "sbatch_cmd_options = \\\n",
    "\"--time=00:30:00 \\\n",
    "-q debug \\\n",
    "-A dasrepo \\\n",
    "--image=nersc/pytorch:ngc-22.05-v1 \\\n",
    "--nodes=2\""
   ]
  },
  {
   "cell_type": "code",
   "execution_count": 74,
   "id": "16d4575c-4672-44b4-9aa7-df1a04e2a235",
   "metadata": {},
   "outputs": [
    {
     "name": "stdout",
     "output_type": "stream",
     "text": [
      "<> Submiting Ray cluster job\n",
      "/global/u2/a/asnaylor/projects/ray_ml_jupyter/nersc_ray_notebook/scripts/sbatch_submit_script.sbatch --time=00:30:00 -q debug -A dasrepo --image=nersc/pytorch:ngc-22.05-v1 --nodes=1 -C haswell --cpus-per-task=64 --ntasks-per-node=1\n",
      "Submitted batch job 66130677\n"
     ]
    }
   ],
   "source": [
    "# Run cell to setup RAY Cluster\n",
    "!source scripts/submit_ray_cluster.sh \"$sbatch_cmd_options\" $tmp_ray_address_file"
   ]
  },
  {
   "cell_type": "code",
   "execution_count": 88,
   "id": "bcd2f754-e5cd-4b21-99e2-d78bc3069d2a",
   "metadata": {},
   "outputs": [
    {
     "name": "stdout",
     "output_type": "stream",
     "text": [
      "595ba054-ff3d-4924-b8d6-db70c4a9d25d  eeaf023b-ccec-44b2-bf06-4fb80c8cde9b\n",
      "7e52ba4f-45fc-4fba-a5fc-7b5fb9347ab7  f4f1ea59-803d-446a-99ce-f0c988f6b402\n"
     ]
    }
   ],
   "source": [
    "!ls /global/cscratch1/sd/asnaylor/ray_cluster/"
   ]
  },
  {
   "cell_type": "code",
   "execution_count": 79,
   "id": "4e39bc51-e032-40d8-b67d-ee05b9baa282",
   "metadata": {},
   "outputs": [
    {
     "name": "stdout",
     "output_type": "stream",
     "text": [
      "nid00610:6379\n"
     ]
    }
   ],
   "source": [
    "#srun parts\n",
    "!cat $tmp_ray_address_file"
   ]
  },
  {
   "cell_type": "code",
   "execution_count": 85,
   "id": "27a2c183-de25-446c-9aad-91c39340876e",
   "metadata": {},
   "outputs": [
    {
     "name": "stdout",
     "output_type": "stream",
     "text": [
      "JOBID            ST USER      NAME          NODES TIME_LIMIT       TIME  SUBMIT_TIME          QOS             START_TIME           FEATURES       NODELIST(REASON\n",
      "66130677         R  asnaylor  sbatch_submi  1          30:00       4:46  2023-01-19T14:09:48  debug_hsw       2023-01-19T14:09:49  haswell        nid00610       \n"
     ]
    }
   ],
   "source": [
    "!sqs"
   ]
  },
  {
   "cell_type": "code",
   "execution_count": 86,
   "id": "76e3be2d-1ab3-404f-9f01-a0076f1d9997",
   "metadata": {},
   "outputs": [],
   "source": [
    "!scancel -u $USER"
   ]
  },
  {
   "cell_type": "code",
   "execution_count": 87,
   "id": "ffde6ad8-b3a2-476f-8c6b-248eb2fce2fb",
   "metadata": {},
   "outputs": [
    {
     "name": "stdout",
     "output_type": "stream",
     "text": [
      "[slurm] - IP Head: nid00610:6379\n",
      "Writting to file: /global/cscratch1/sd/asnaylor/ray_cluster/f4f1ea59-803d-446a-99ce-f0c988f6b402\n",
      "[slurm] - Starting ray HEAD\n",
      "srun: fatal: Can not execute ray\n",
      "[slurm] - Starting 0 ray worker\n"
     ]
    }
   ],
   "source": [
    "!cat slurm-66130677.out"
   ]
  },
  {
   "cell_type": "markdown",
   "id": "fe7327e2-61db-4b05-bcce-e5109074a8bf",
   "metadata": {},
   "source": [
    "-----"
   ]
  },
  {
   "cell_type": "code",
   "execution_count": null,
   "id": "ae02412e-e359-4450-8d4e-5311707d4ea0",
   "metadata": {},
   "outputs": [],
   "source": [
    "# Setup cell\n",
    "import ray"
   ]
  },
  {
   "cell_type": "code",
   "execution_count": null,
   "id": "250339ec-a37c-4a9a-a3d3-ea8a190e4f8c",
   "metadata": {},
   "outputs": [],
   "source": [
    "\n",
    "import argparse\n",
    "import ray\n",
    "import time\n",
    "import math\n",
    "import os\n",
    "\n",
    "## Variables\n",
    "RAY_NODE_ADDRESS=os.getenv('RAY_NODE_ADDRESS', 'auto')\n",
    "\n",
    "\n",
    "## Function\n",
    "def convert_size(size_bytes):\n",
    "    if size_bytes == 0:\n",
    "        return \"0B\"\n",
    "    size_name = (\"B\", \"KB\", \"MB\", \"GB\", \"TB\", \"PB\", \"EB\", \"ZB\", \"YB\")\n",
    "    i = int(math.floor(math.log(size_bytes, 1024)))\n",
    "    p = math.pow(1024, i)\n",
    "    s = round(size_bytes / p, 2)\n",
    "    return \"%s %s\" % (s, size_name[i])\n",
    "\n",
    "\n",
    "def main():\n",
    "    ## Check args\n",
    "    parser = argparse.ArgumentParser()\n",
    "    parser.add_argument(\"n_workers\", type=int,\n",
    "                        help=\"Number of ray workers\")\n",
    "    # parser.add_argument(\"redis_password\", type=str,\n",
    "    #                     help=\"redis password\")\n",
    "    parser.add_argument(\"-t\", \"--timeout\", type=float, default=5.0,\n",
    "                        help=\"Timeout [default %(default)s min]\")\n",
    "    args = parser.parse_args()\n",
    "\n",
    "    ## Connect to ray\n",
    "    print(\"<> Connecting to ray cluster at: {}\".format(RAY_NODE_ADDRESS))\n",
    "    ray.init(address=RAY_NODE_ADDRESS,)#, _redis_password=args.redis_password)\n",
    "\n",
    "    ## Checking ray workers\n",
    "    nodes = ray.nodes()\n",
    "    print(\"<> Found {}/{} ray workers\".format(len(nodes)-1,args.n_workers))\n",
    "\n",
    "    time_count = 0\n",
    "    while True:\n",
    "        if len(nodes) >= (args.n_workers+1):\n",
    "            break\n",
    "        elif time_count >= (args.timeout*60):\n",
    "            raise TimeoutError(\"Couldn't find all of ray workers\")\n",
    "        print(\"...waiting to detect all workers\")\n",
    "        time.sleep(30)\n",
    "        time_count+=30\n",
    "        nodes = ray.nodes()\n",
    "    \n",
    "    print(\"<> Found all {} ray nodes\".format(len(nodes)))\n",
    "    node_resources = ray.cluster_resources()\n",
    "    print(\"         with total of {} CPUs and {} RAM\".format(node_resources['CPU'], convert_size(node_resources['memory'])))\n",
    "\n",
    "    return\n",
    "\n",
    "if __name__ == \"__main__\":\n",
    "    main()"
   ]
  }
 ],
 "metadata": {
  "kernelspec": {
   "display_name": "ray_ml_env",
   "language": "python",
   "name": "ray_ml_env"
  },
  "language_info": {
   "codemirror_mode": {
    "name": "ipython",
    "version": 3
   },
   "file_extension": ".py",
   "mimetype": "text/x-python",
   "name": "python",
   "nbconvert_exporter": "python",
   "pygments_lexer": "ipython3",
   "version": "3.8.13"
  }
 },
 "nbformat": 4,
 "nbformat_minor": 5
}
