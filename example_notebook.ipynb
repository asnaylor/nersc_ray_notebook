{
 "cells": [
  {
   "cell_type": "markdown",
   "id": "991de4c8-b56a-47e7-aa1d-1018834b7e57",
   "metadata": {},
   "source": [
    "# Ray hyperparameter optimization Notebook"
   ]
  },
  {
   "cell_type": "code",
   "execution_count": 1,
   "id": "25c93f65-93aa-4f14-8e66-618a2eef3064",
   "metadata": {},
   "outputs": [],
   "source": [
    "# Config\n",
    "sbatch_cmd_options = \\\n",
    "\"--time=00:30:00 \\\n",
    "-q debug \\\n",
    "-A dasrepo \\\n",
    "--image=nersc/pytorch:ngc-22.09-v0 \\\n",
    "--nodes=2\"\n",
    "\n",
    "# sbatch_cmd_options = \\\n",
    "# \"--time=00:30:00 \\\n",
    "# -q debug \\\n",
    "# -A dasrepo \\\n",
    "# --nodes=2\""
   ]
  },
  {
   "cell_type": "code",
   "execution_count": 2,
   "id": "16d4575c-4672-44b4-9aa7-df1a04e2a235",
   "metadata": {},
   "outputs": [
    {
     "name": "stdout",
     "output_type": "stream",
     "text": [
      "<> Submiting Ray cluster job\n",
      "Submitted batch job 66232268\n"
     ]
    }
   ],
   "source": [
    "# Run cell to setup RAY Cluster\n",
    "!source scripts/submit_ray_cluster.sh \"$sbatch_cmd_options\""
   ]
  },
  {
   "cell_type": "code",
   "execution_count": 3,
   "id": "ed0593e7-9749-4b84-8f3e-97d6b844a040",
   "metadata": {},
   "outputs": [
    {
     "name": "stdout",
     "output_type": "stream",
     "text": [
      "/global/cscratch1/sd/asnaylor/ray_cluster/head_node_address\n"
     ]
    }
   ],
   "source": [
    "#While loop pull contents\n",
    "import os \n",
    "ray_scratch_file = os.path.join(os.getenv('SCRATCH'), 'ray_cluster', 'head_node_address')\n",
    "\n",
    "print(ray_scratch_file)"
   ]
  },
  {
   "cell_type": "code",
   "execution_count": 5,
   "id": "bcd2f754-e5cd-4b21-99e2-d78bc3069d2a",
   "metadata": {},
   "outputs": [
    {
     "name": "stdout",
     "output_type": "stream",
     "text": [
      "head_node_address\n"
     ]
    }
   ],
   "source": [
    "!ls /global/cscratch1/sd/asnaylor/ray_cluster\n",
    "# !ls /pscratch/sd/a/asnaylor/ray_cluster/"
   ]
  },
  {
   "cell_type": "code",
   "execution_count": 6,
   "id": "4e39bc51-e032-40d8-b67d-ee05b9baa282",
   "metadata": {},
   "outputs": [
    {
     "name": "stdout",
     "output_type": "stream",
     "text": [
      "10.128.5.162\n"
     ]
    }
   ],
   "source": [
    "#srun parts\n",
    "!cat $ray_scratch_file"
   ]
  },
  {
   "cell_type": "code",
   "execution_count": 7,
   "id": "9526a402-5511-4c1b-810b-f74eb531707b",
   "metadata": {},
   "outputs": [],
   "source": [
    "# !ssh 10.128.4.224 echo 'hello'"
   ]
  },
  {
   "cell_type": "code",
   "execution_count": 9,
   "id": "27a2c183-de25-446c-9aad-91c39340876e",
   "metadata": {},
   "outputs": [
    {
     "name": "stdout",
     "output_type": "stream",
     "text": [
      "JOBID            ST USER      NAME          NODES TIME_LIMIT       TIME  SUBMIT_TIME          QOS             START_TIME           FEATURES       NODELIST(REASON\n",
      "66232268         R  asnaylor  sbatch_submi  2          30:00       0:21  2023-01-24T15:32:04  debug_hsw       2023-01-24T15:32:05  haswell        nid0[1431-1432]\n"
     ]
    }
   ],
   "source": [
    "!sqs"
   ]
  },
  {
   "cell_type": "code",
   "execution_count": 28,
   "id": "76e3be2d-1ab3-404f-9f01-a0076f1d9997",
   "metadata": {},
   "outputs": [],
   "source": [
    "!scancel -u $USER"
   ]
  },
  {
   "cell_type": "code",
   "execution_count": 13,
   "id": "ffde6ad8-b3a2-476f-8c6b-248eb2fce2fb",
   "metadata": {},
   "outputs": [
    {
     "name": "stdout",
     "output_type": "stream",
     "text": [
      "[slurm] - IP Head: nid01431:6379 | 10.128.5.162\n",
      "[slurm] - Starting ray HEAD\n",
      "2023-01-24 23:32:17,431\tINFO usage_lib.py:452 -- Usage stats collection is disabled.\n",
      "2023-01-24 23:32:17,431\tINFO scripts.py:719 -- Local node IP: nid01431\n",
      "2023-01-24 23:32:19,654\tSUCC scripts.py:756 -- --------------------\n",
      "2023-01-24 23:32:19,654\tSUCC scripts.py:757 -- Ray runtime started.\n",
      "2023-01-24 23:32:19,654\tSUCC scripts.py:758 -- --------------------\n",
      "2023-01-24 23:32:19,654\tINFO scripts.py:760 -- Next steps\n",
      "2023-01-24 23:32:19,654\tINFO scripts.py:761 -- To connect to this Ray runtime from another node, run\n",
      "2023-01-24 23:32:19,654\tINFO scripts.py:764 --   ray start --address='nid01431:6379'\n",
      "2023-01-24 23:32:19,654\tINFO scripts.py:780 -- Alternatively, use the following Python code:\n",
      "2023-01-24 23:32:19,654\tINFO scripts.py:782 -- import ray\n",
      "2023-01-24 23:32:19,654\tINFO scripts.py:786 -- ray.init(address='auto', _node_ip_address='nid01431')\n",
      "2023-01-24 23:32:19,654\tINFO scripts.py:798 -- To connect to this Ray runtime from outside of the cluster, for example to\n",
      "2023-01-24 23:32:19,654\tINFO scripts.py:802 -- connect to a remote cluster from your laptop directly, use the following\n",
      "2023-01-24 23:32:19,654\tINFO scripts.py:806 -- Python code:\n",
      "2023-01-24 23:32:19,654\tINFO scripts.py:808 -- import ray\n",
      "2023-01-24 23:32:19,654\tINFO scripts.py:809 -- ray.init(address='ray://<head_node_ip_address>:10001')\n",
      "2023-01-24 23:32:19,654\tINFO scripts.py:818 -- If connection fails, check your firewall settings and network configuration.\n",
      "2023-01-24 23:32:19,654\tINFO scripts.py:826 -- To terminate the Ray runtime, run\n",
      "2023-01-24 23:32:19,654\tINFO scripts.py:827 --   ray stop\n",
      "2023-01-24 23:32:19,654\tINFO scripts.py:905 -- --block\n",
      "2023-01-24 23:32:19,654\tINFO scripts.py:906 -- This command will now block forever until terminated by a signal.\n",
      "2023-01-24 23:32:19,654\tINFO scripts.py:909 -- Running subprocesses are monitored and a message will be printed if any of them terminate unexpectedly. Subprocesses exit with SIGTERM will be treated as graceful, thus NOT reported.\n",
      "[slurm] - Starting 1 ray worker\n",
      "    - 1 at nid01432\n",
      "[2023-01-24 23:32:44,716 I 32552 32552] global_state_accessor.cc:357: This node has an IP address of 10.128.5.163, while we can not found the matched Raylet address. This maybe come from when you connect the Ray cluster with a different IP address or connect a container.\n",
      "2023-01-24 23:32:44,591\tINFO scripts.py:883 -- Local node IP: 10.128.5.163\n",
      "2023-01-24 23:32:44,717\tSUCC scripts.py:895 -- --------------------\n",
      "2023-01-24 23:32:44,718\tSUCC scripts.py:896 -- Ray runtime started.\n",
      "2023-01-24 23:32:44,718\tSUCC scripts.py:897 -- --------------------\n",
      "2023-01-24 23:32:44,718\tINFO scripts.py:899 -- To terminate the Ray runtime, run\n",
      "2023-01-24 23:32:44,718\tINFO scripts.py:900 --   ray stop\n",
      "2023-01-24 23:32:44,718\tINFO scripts.py:905 -- --block\n",
      "2023-01-24 23:32:44,718\tINFO scripts.py:906 -- This command will now block forever until terminated by a signal.\n",
      "2023-01-24 23:32:44,718\tINFO scripts.py:909 -- Running subprocesses are monitored and a message will be printed if any of them terminate unexpectedly. Subprocesses exit with SIGTERM will be treated as graceful, thus NOT reported.\n"
     ]
    }
   ],
   "source": [
    "# !cat slurm-*.out\n",
    "!cat slurm-66232268.out\n",
    "# !ls *.out÷"
   ]
  },
  {
   "cell_type": "markdown",
   "id": "fe7327e2-61db-4b05-bcce-e5109074a8bf",
   "metadata": {},
   "source": [
    "-----"
   ]
  },
  {
   "cell_type": "code",
   "execution_count": 14,
   "id": "ae02412e-e359-4450-8d4e-5311707d4ea0",
   "metadata": {},
   "outputs": [
    {
     "name": "stdout",
     "output_type": "stream",
     "text": [
      "ray://10.128.5.162:10001\n"
     ]
    }
   ],
   "source": [
    "import ray\n",
    "import math\n",
    "\n",
    "def convert_size(size_bytes):\n",
    "    if size_bytes == 0:\n",
    "        return \"0B\"\n",
    "    size_name = (\"B\", \"KB\", \"MB\", \"GB\", \"TB\", \"PB\", \"EB\", \"ZB\", \"YB\")\n",
    "    i = int(math.floor(math.log(size_bytes, 1024)))\n",
    "    p = math.pow(1024, i)\n",
    "    s = round(size_bytes / p, 2)\n",
    "    return \"%s %s\" % (s, size_name[i])\n",
    "\n",
    "\n",
    "#get address from file\n",
    "with open(ray_scratch_file) as f:\n",
    "    RAY_NODE_ADDRESS = f.read().strip('\\n')\n",
    "    RAY_NODE_ADDRESS = 'ray://{}:10001'.format(RAY_NODE_ADDRESS)\n",
    "\n",
    "print(RAY_NODE_ADDRESS)"
   ]
  },
  {
   "cell_type": "code",
   "execution_count": 15,
   "id": "7a871f68-b98e-4da7-bf03-a68cbb894bf9",
   "metadata": {},
   "outputs": [
    {
     "data": {
      "text/html": [
       "<div>\n",
       "    <div style=\"margin-left: 50px;display: flex;flex-direction: row;align-items: center\">\n",
       "        <h3 style=\"color: var(--jp-ui-font-color0)\">Ray</h3>\n",
       "        <svg version=\"1.1\" id=\"ray\" width=\"3em\" viewBox=\"0 0 144.5 144.6\" style=\"margin-left: 3em;margin-right: 3em\">\n",
       "            <g id=\"layer-1\">\n",
       "                <path fill=\"#00a2e9\" class=\"st0\" d=\"M97.3,77.2c-3.8-1.1-6.2,0.9-8.3,5.1c-3.5,6.8-9.9,9.9-17.4,9.6S58,88.1,54.8,81.2c-1.4-3-3-4-6.3-4.1\n",
       "                    c-5.6-0.1-9.9,0.1-13.1,6.4c-3.8,7.6-13.6,10.2-21.8,7.6C5.2,88.4-0.4,80.5,0,71.7c0.1-8.4,5.7-15.8,13.8-18.2\n",
       "                    c8.4-2.6,17.5,0.7,22.3,8c1.3,1.9,1.3,5.2,3.6,5.6c3.9,0.6,8,0.2,12,0.2c1.8,0,1.9-1.6,2.4-2.8c3.5-7.8,9.7-11.8,18-11.9\n",
       "                    c8.2-0.1,14.4,3.9,17.8,11.4c1.3,2.8,2.9,3.6,5.7,3.3c1-0.1,2,0.1,3,0c2.8-0.5,6.4,1.7,8.1-2.7s-2.3-5.5-4.1-7.5\n",
       "                    c-5.1-5.7-10.9-10.8-16.1-16.3C84,38,81.9,37.1,78,38.3C66.7,42,56.2,35.7,53,24.1C50.3,14,57.3,2.8,67.7,0.5\n",
       "                    C78.4-2,89,4.7,91.5,15.3c0.1,0.3,0.1,0.5,0.2,0.8c0.7,3.4,0.7,6.9-0.8,9.8c-1.7,3.2-0.8,5,1.5,7.2c6.7,6.5,13.3,13,19.8,19.7\n",
       "                    c1.8,1.8,3,2.1,5.5,1.2c9.1-3.4,17.9-0.6,23.4,7c4.8,6.9,4.6,16.1-0.4,22.9c-5.4,7.2-14.2,9.9-23.1,6.5c-2.3-0.9-3.5-0.6-5.1,1.1\n",
       "                    c-6.7,6.9-13.6,13.7-20.5,20.4c-1.8,1.8-2.5,3.2-1.4,5.9c3.5,8.7,0.3,18.6-7.7,23.6c-7.9,5-18.2,3.8-24.8-2.9\n",
       "                    c-6.4-6.4-7.4-16.2-2.5-24.3c4.9-7.8,14.5-11,23.1-7.8c3,1.1,4.7,0.5,6.9-1.7C91.7,98.4,98,92.3,104.2,86c1.6-1.6,4.1-2.7,2.6-6.2\n",
       "                    c-1.4-3.3-3.8-2.5-6.2-2.6C99.8,77.2,98.9,77.2,97.3,77.2z M72.1,29.7c5.5,0.1,9.9-4.3,10-9.8c0-0.1,0-0.2,0-0.3\n",
       "                    C81.8,14,77,9.8,71.5,10.2c-5,0.3-9,4.2-9.3,9.2c-0.2,5.5,4,10.1,9.5,10.3C71.8,29.7,72,29.7,72.1,29.7z M72.3,62.3\n",
       "                    c-5.4-0.1-9.9,4.2-10.1,9.7c0,0.2,0,0.3,0,0.5c0.2,5.4,4.5,9.7,9.9,10c5.1,0.1,9.9-4.7,10.1-9.8c0.2-5.5-4-10-9.5-10.3\n",
       "                    C72.6,62.3,72.4,62.3,72.3,62.3z M115,72.5c0.1,5.4,4.5,9.7,9.8,9.9c5.6-0.2,10-4.8,10-10.4c-0.2-5.4-4.6-9.7-10-9.7\n",
       "                    c-5.3-0.1-9.8,4.2-9.9,9.5C115,72.1,115,72.3,115,72.5z M19.5,62.3c-5.4,0.1-9.8,4.4-10,9.8c-0.1,5.1,5.2,10.4,10.2,10.3\n",
       "                    c5.6-0.2,10-4.9,9.8-10.5c-0.1-5.4-4.5-9.7-9.9-9.6C19.6,62.3,19.5,62.3,19.5,62.3z M71.8,134.6c5.9,0.2,10.3-3.9,10.4-9.6\n",
       "                    c0.5-5.5-3.6-10.4-9.1-10.8c-5.5-0.5-10.4,3.6-10.8,9.1c0,0.5,0,0.9,0,1.4c-0.2,5.3,4,9.8,9.3,10\n",
       "                    C71.6,134.6,71.7,134.6,71.8,134.6z\"/>\n",
       "            </g>\n",
       "        </svg>\n",
       "        <table>\n",
       "            <tr>\n",
       "                <td style=\"text-align: left\"><b>Python version:</b></td>\n",
       "                <td style=\"text-align: left\"><b>3.8.13</b></td>\n",
       "            </tr>\n",
       "            <tr>\n",
       "                <td style=\"text-align: left\"><b>Ray version:</b></td>\n",
       "                <td style=\"text-align: left\"><b> 2.0.0</b></td>\n",
       "            </tr>\n",
       "            \n",
       "        </table>\n",
       "    </div>\n",
       "</div>\n"
      ],
      "text/plain": [
       "ClientContext(dashboard_url='', python_version='3.8.13', ray_version='2.0.0', ray_commit='cba26cc83f6b5b8a2ff166594a65cb74c0ec8740', protocol_version='2022-07-24', _num_clients=1, _context_to_restore=<ray.util.client._ClientContext object at 0x1555225fbf40>)"
      ]
     },
     "execution_count": 15,
     "metadata": {},
     "output_type": "execute_result"
    }
   ],
   "source": [
    "# ray.init(\"ray://10.128.4.224:10001\")\n",
    "ray.init(RAY_NODE_ADDRESS)\n",
    "# ray.init(RAY_NODE_ADDRESS, dashboard_host=\"0.0.0.0\")\n",
    "# ray.init(RAY_NODE_ADDRESS, webui_host=\"0.0.0.0\")"
   ]
  },
  {
   "cell_type": "code",
   "execution_count": 16,
   "id": "8003bdbb-17dc-4ff2-baff-6675f20b66aa",
   "metadata": {},
   "outputs": [
    {
     "name": "stdout",
     "output_type": "stream",
     "text": [
      "[{'NodeID': 'f6f33592b8b894fa4792f945f64c63a7d5e059250a4a37459eefc063', 'Alive': True, 'NodeManagerAddress': 'nid01431', 'NodeManagerHostname': 'nid01431', 'NodeManagerPort': 38983, 'ObjectManagerPort': 40811, 'ObjectStoreSocketName': '/tmp/ray/session_2023-01-24_23-32-17_483326_23385/sockets/plasma_store', 'RayletSocketName': '/tmp/ray/session_2023-01-24_23-32-17_483326_23385/sockets/raylet', 'MetricsExportPort': 44037, 'NodeName': 'nid01431', 'alive': True, 'Resources': {'node:nid01431': 1.0, 'memory': 81094708634.0, 'CPU': 64.0, 'object_store_memory': 39040589414.0}}, {'NodeID': 'efa8d87b519450ccfa35bb9eec1f37db64ec2b1105315272d44eaa8e', 'Alive': True, 'NodeManagerAddress': '10.128.5.163', 'NodeManagerHostname': 'nid01432', 'NodeManagerPort': 37477, 'ObjectManagerPort': 40317, 'ObjectStoreSocketName': '/tmp/ray/session_2023-01-24_23-32-17_483326_23385/sockets/plasma_store', 'RayletSocketName': '/tmp/ray/session_2023-01-24_23-32-17_483326_23385/sockets/raylet', 'MetricsExportPort': 48559, 'NodeName': '10.128.5.163', 'alive': True, 'Resources': {'node:10.128.5.163': 1.0, 'object_store_memory': 39008182272.0, 'CPU': 64.0, 'memory': 91019091968.0}}]\n"
     ]
    }
   ],
   "source": [
    "nodes = ray.nodes()\n",
    "print(nodes)"
   ]
  },
  {
   "cell_type": "code",
   "execution_count": 17,
   "id": "176f8017-11f5-4b1f-9e4c-ff3af52d9dd7",
   "metadata": {},
   "outputs": [
    {
     "name": "stdout",
     "output_type": "stream",
     "text": [
      "total of 128.0 CPUs and 160.29 GB RAM\n"
     ]
    }
   ],
   "source": [
    "node_resources = ray.cluster_resources()\n",
    "print(\"total of {} CPUs and {} RAM\".format(node_resources['CPU'], convert_size(node_resources['memory'])))\n"
   ]
  },
  {
   "cell_type": "code",
   "execution_count": 18,
   "id": "5de574c9-9845-4b3c-86ac-8c24fb8f1019",
   "metadata": {},
   "outputs": [
    {
     "name": "stdout",
     "output_type": "stream",
     "text": [
      "cori19\n"
     ]
    }
   ],
   "source": [
    "! hostname"
   ]
  },
  {
   "cell_type": "code",
   "execution_count": 23,
   "id": "4699d77c-85ad-4a61-b968-e1e54c09ff47",
   "metadata": {},
   "outputs": [],
   "source": [
    "# Change this to match your cluster scale.\n",
    "NUM_SAMPLING_TASKS = int(node_resources['CPU'])\n",
    "NUM_SAMPLES_PER_TASK = 10_000_000\n",
    "TOTAL_NUM_SAMPLES = NUM_SAMPLING_TASKS * NUM_SAMPLES_PER_TASK"
   ]
  },
  {
   "cell_type": "code",
   "execution_count": 24,
   "id": "b792f074-2d9e-4f5b-a4eb-a90a263f58ba",
   "metadata": {},
   "outputs": [],
   "source": [
    "import random\n",
    "import math\n",
    "from typing import Tuple, List\n",
    "\n",
    "def sampling_task(num_samples: int, task_id: int, verbose=True) -> int:\n",
    "    num_inside = 0\n",
    "    for i in range(num_samples):\n",
    "        x, y = random.uniform(-1, 1), random.uniform(-1, 1)\n",
    "        # check if the point is inside the circle\n",
    "        if math.hypot(x, y) <= 1:\n",
    "            num_inside += 1\n",
    "    if verbose:\n",
    "        print(f\"Task id: {task_id} | Samples in the circle: {num_inside}\")\n",
    "    return num_inside\n",
    "\n",
    "@ray.remote\n",
    "def sample_task_distribute(sample_size, i) -> object:\n",
    "    return sampling_task(sample_size, i)\n",
    "\n",
    "def run_disributed(sample_size) -> List[int]:\n",
    "    # Launch Ray remote tasks in a comprehension list, each returns immediately with a future ObjectRef \n",
    "    # Use ray.get to fetch the computed value; this will block until the ObjectRef is resolved or its value is materialized.\n",
    "    results = ray.get([\n",
    "            sample_task_distribute.remote(sample_size, i+1) for i in range(NUM_SAMPLING_TASKS)\n",
    "        ])\n",
    "    return results\n",
    "\n",
    "def calculate_pi(results: List[int]) -> float:\n",
    "    total_num_inside = sum(results)\n",
    "    pi = (total_num_inside * 4) / TOTAL_NUM_SAMPLES\n",
    "    return pi"
   ]
  },
  {
   "cell_type": "code",
   "execution_count": 25,
   "id": "5059183a-f7c8-47aa-9b13-2104661cdeae",
   "metadata": {},
   "outputs": [
    {
     "name": "stdout",
     "output_type": "stream",
     "text": [
      "\u001b[2m\u001b[36m(sample_task_distribute pid=23691)\u001b[0m Task id: 1 | Samples in the circle: 7854177\n",
      "\u001b[2m\u001b[36m(sample_task_distribute pid=23690)\u001b[0m Task id: 2 | Samples in the circle: 7853680\n",
      "\u001b[2m\u001b[36m(sample_task_distribute pid=23774)\u001b[0m Task id: 3 | Samples in the circle: 7854499\n",
      "\u001b[2m\u001b[36m(sample_task_distribute pid=23772)\u001b[0m Task id: 4 | Samples in the circle: 7853547\n",
      "\u001b[2m\u001b[36m(sample_task_distribute pid=23769)\u001b[0m Task id: 7 | Samples in the circle: 7851641\n",
      "\u001b[2m\u001b[36m(sample_task_distribute pid=23775)\u001b[0m Task id: 6 | Samples in the circle: 7853648\n",
      "\u001b[2m\u001b[36m(sample_task_distribute pid=23770)\u001b[0m Task id: 5 | Samples in the circle: 7854066\n",
      "\u001b[2m\u001b[36m(sample_task_distribute pid=23771)\u001b[0m Task id: 10 | Samples in the circle: 7856117\n",
      "\u001b[2m\u001b[36m(sample_task_distribute pid=23776)\u001b[0m Task id: 11 | Samples in the circle: 7852118\n",
      "\u001b[2m\u001b[36m(sample_task_distribute pid=23768)\u001b[0m Task id: 9 | Samples in the circle: 7855405\n",
      "\u001b[2m\u001b[36m(sample_task_distribute pid=23779)\u001b[0m Task id: 13 | Samples in the circle: 7853907\n",
      "\u001b[2m\u001b[36m(sample_task_distribute pid=23780)\u001b[0m Task id: 12 | Samples in the circle: 7853399\n",
      "\u001b[2m\u001b[36m(sample_task_distribute pid=24040)\u001b[0m Task id: 22 | Samples in the circle: 7853283\n",
      "\u001b[2m\u001b[36m(sample_task_distribute pid=23773)\u001b[0m Task id: 8 | Samples in the circle: 7855643\n",
      "\u001b[2m\u001b[36m(sample_task_distribute pid=24035)\u001b[0m Task id: 25 | Samples in the circle: 7854306\n",
      "\u001b[2m\u001b[36m(sample_task_distribute pid=24103)\u001b[0m Task id: 14 | Samples in the circle: 7853664\n",
      "\u001b[2m\u001b[36m(sample_task_distribute pid=24091)\u001b[0m Task id: 24 | Samples in the circle: 7853211\n",
      "\u001b[2m\u001b[36m(sample_task_distribute pid=24185)\u001b[0m Task id: 20 | Samples in the circle: 7854644\n",
      "\u001b[2m\u001b[36m(sample_task_distribute pid=24085)\u001b[0m Task id: 29 | Samples in the circle: 7854708\n",
      "\u001b[2m\u001b[36m(sample_task_distribute pid=24137)\u001b[0m Task id: 19 | Samples in the circle: 7853439\n",
      "\u001b[2m\u001b[36m(sample_task_distribute pid=24047)\u001b[0m Task id: 26 | Samples in the circle: 7852718\n",
      "\u001b[2m\u001b[36m(sample_task_distribute pid=24100)\u001b[0m Task id: 16 | Samples in the circle: 7855042\n",
      "\u001b[2m\u001b[36m(sample_task_distribute pid=24090)\u001b[0m Task id: 27 | Samples in the circle: 7853937\n",
      "\u001b[2m\u001b[36m(sample_task_distribute pid=24152)\u001b[0m Task id: 23 | Samples in the circle: 7855359\n",
      "\u001b[2m\u001b[36m(sample_task_distribute pid=24081)\u001b[0m Task id: 17 | Samples in the circle: 7854080\n",
      "\u001b[2m\u001b[36m(sample_task_distribute pid=24105)\u001b[0m Task id: 15 | Samples in the circle: 7853759\n",
      "\u001b[2m\u001b[36m(sample_task_distribute pid=24041)\u001b[0m Task id: 21 | Samples in the circle: 7855008\n",
      "\u001b[2m\u001b[36m(sample_task_distribute pid=24202)\u001b[0m Task id: 32 | Samples in the circle: 7856370\n",
      "\u001b[2m\u001b[36m(sample_task_distribute pid=24038)\u001b[0m Task id: 18 | Samples in the circle: 7853237\n",
      "\u001b[2m\u001b[36m(sample_task_distribute pid=24195)\u001b[0m Task id: 30 | Samples in the circle: 7852670\n",
      "\u001b[2m\u001b[36m(sample_task_distribute pid=24191)\u001b[0m Task id: 31 | Samples in the circle: 7853972\n",
      "\u001b[2m\u001b[36m(sample_task_distribute pid=24088)\u001b[0m Task id: 28 | Samples in the circle: 7854644\n",
      "\u001b[2m\u001b[36m(sample_task_distribute pid=24086)\u001b[0m Task id: 68 | Samples in the circle: 7855489\n",
      "\u001b[2m\u001b[36m(sample_task_distribute pid=24049)\u001b[0m Task id: 73 | Samples in the circle: 7855327\n",
      "\u001b[2m\u001b[36m(sample_task_distribute pid=24016)\u001b[0m Task id: 72 | Samples in the circle: 7851845\n",
      "\u001b[2m\u001b[36m(sample_task_distribute pid=24087)\u001b[0m Task id: 67 | Samples in the circle: 7854417\n",
      "\u001b[2m\u001b[36m(sample_task_distribute pid=24037)\u001b[0m Task id: 71 | Samples in the circle: 7855628\n",
      "\u001b[2m\u001b[36m(sample_task_distribute pid=23992)\u001b[0m Task id: 75 | Samples in the circle: 7854560\n",
      "\u001b[2m\u001b[36m(sample_task_distribute pid=24046)\u001b[0m Task id: 81 | Samples in the circle: 7854576\n",
      "\u001b[2m\u001b[36m(sample_task_distribute pid=24002)\u001b[0m Task id: 103 | Samples in the circle: 7854301\n",
      "\u001b[2m\u001b[36m(sample_task_distribute pid=24023)\u001b[0m Task id: 105 | Samples in the circle: 7854943\n",
      "\u001b[2m\u001b[36m(sample_task_distribute pid=24024)\u001b[0m Task id: 117 | Samples in the circle: 7856147\n",
      "\u001b[2m\u001b[36m(sample_task_distribute pid=24042)\u001b[0m Task id: 66 | Samples in the circle: 7852873\n",
      "\u001b[2m\u001b[36m(sample_task_distribute pid=24045)\u001b[0m Task id: 83 | Samples in the circle: 7853008\n",
      "\u001b[2m\u001b[36m(sample_task_distribute pid=24001)\u001b[0m Task id: 107 | Samples in the circle: 7854281\n",
      "\u001b[2m\u001b[36m(sample_task_distribute pid=24044)\u001b[0m Task id: 98 | Samples in the circle: 7854605\n",
      "\u001b[2m\u001b[36m(sample_task_distribute pid=24034)\u001b[0m Task id: 111 | Samples in the circle: 7853292\n",
      "\u001b[2m\u001b[36m(sample_task_distribute pid=24000)\u001b[0m Task id: 122 | Samples in the circle: 7854001\n",
      "\u001b[2m\u001b[36m(sample_task_distribute pid=24003)\u001b[0m Task id: 109 | Samples in the circle: 7854714\n",
      "\u001b[2m\u001b[36m(sample_task_distribute pid=24005)\u001b[0m Task id: 124 | Samples in the circle: 7852156\n",
      "\u001b[2m\u001b[36m(sample_task_distribute pid=23977)\u001b[0m Task id: 125 | Samples in the circle: 7856180\n",
      "\u001b[2m\u001b[36m(sample_task_distribute pid=24006)\u001b[0m Task id: 90 | Samples in the circle: 7851695\n",
      "\u001b[2m\u001b[36m(sample_task_distribute pid=24032)\u001b[0m Task id: 113 | Samples in the circle: 7853065\n",
      "\u001b[2m\u001b[36m(sample_task_distribute pid=24004)\u001b[0m Task id: 115 | Samples in the circle: 7853217\n",
      "\u001b[2m\u001b[36m(sample_task_distribute pid=24084)\u001b[0m Task id: 65 | Samples in the circle: 7854337\n",
      "\u001b[2m\u001b[36m(sample_task_distribute pid=24033)\u001b[0m Task id: 79 | Samples in the circle: 7854206\n",
      "\u001b[2m\u001b[36m(sample_task_distribute pid=24043)\u001b[0m Task id: 87 | Samples in the circle: 7855243\n",
      "\u001b[2m\u001b[36m(sample_task_distribute pid=24039)\u001b[0m Task id: 69 | Samples in the circle: 7853997\n",
      "\u001b[2m\u001b[36m(sample_task_distribute pid=24048)\u001b[0m Task id: 77 | Samples in the circle: 7853254\n",
      "\u001b[2m\u001b[36m(sample_task_distribute pid=24036)\u001b[0m Task id: 89 | Samples in the circle: 7854711\n",
      "\u001b[2m\u001b[36m(sample_task_distribute pid=24014)\u001b[0m Task id: 101 | Samples in the circle: 7852286\n",
      "\u001b[2m\u001b[36m(sample_task_distribute pid=23993)\u001b[0m Task id: 126 | Samples in the circle: 7854497\n",
      "\u001b[2m\u001b[36m(sample_task_distribute pid=24025)\u001b[0m Task id: 74 | Samples in the circle: 7855301\n",
      "\u001b[2m\u001b[36m(sample_task_distribute pid=23999)\u001b[0m Task id: 120 | Samples in the circle: 7854660\n",
      "\u001b[2m\u001b[36m(sample_task_distribute pid=32692, ip=10.128.5.163)\u001b[0m Task id: 33 | Samples in the circle: 7853198\n",
      "\u001b[2m\u001b[36m(sample_task_distribute pid=32694, ip=10.128.5.163)\u001b[0m Task id: 36 | Samples in the circle: 7856336\n",
      "\u001b[2m\u001b[36m(sample_task_distribute pid=32693, ip=10.128.5.163)\u001b[0m Task id: 48 | Samples in the circle: 7856292\n",
      "\u001b[2m\u001b[36m(sample_task_distribute pid=32691, ip=10.128.5.163)\u001b[0m Task id: 59 | Samples in the circle: 7854080\n",
      "\u001b[2m\u001b[36m(sample_task_distribute pid=32715, ip=10.128.5.163)\u001b[0m Task id: 46 | Samples in the circle: 7850588\n",
      "\u001b[2m\u001b[36m(sample_task_distribute pid=32696, ip=10.128.5.163)\u001b[0m Task id: 35 | Samples in the circle: 7852830\n",
      "\u001b[2m\u001b[36m(sample_task_distribute pid=32717, ip=10.128.5.163)\u001b[0m Task id: 56 | Samples in the circle: 7853766\n",
      "\u001b[2m\u001b[36m(sample_task_distribute pid=32707, ip=10.128.5.163)\u001b[0m Task id: 55 | Samples in the circle: 7853383\n",
      "\u001b[2m\u001b[36m(sample_task_distribute pid=32699, ip=10.128.5.163)\u001b[0m Task id: 61 | Samples in the circle: 7853542\n",
      "\u001b[2m\u001b[36m(sample_task_distribute pid=32722, ip=10.128.5.163)\u001b[0m Task id: 52 | Samples in the circle: 7854336\n",
      "\u001b[2m\u001b[36m(sample_task_distribute pid=32713, ip=10.128.5.163)\u001b[0m Task id: 49 | Samples in the circle: 7854038\n",
      "\u001b[2m\u001b[36m(sample_task_distribute pid=32708, ip=10.128.5.163)\u001b[0m Task id: 40 | Samples in the circle: 7854392\n",
      "\u001b[2m\u001b[36m(sample_task_distribute pid=32697, ip=10.128.5.163)\u001b[0m Task id: 42 | Samples in the circle: 7852431\n",
      "\u001b[2m\u001b[36m(sample_task_distribute pid=32686, ip=10.128.5.163)\u001b[0m Task id: 51 | Samples in the circle: 7854879\n",
      "\u001b[2m\u001b[36m(sample_task_distribute pid=32687, ip=10.128.5.163)\u001b[0m Task id: 34 | Samples in the circle: 7854690\n",
      "\u001b[2m\u001b[36m(sample_task_distribute pid=32711, ip=10.128.5.163)\u001b[0m Task id: 57 | Samples in the circle: 7854361\n",
      "\u001b[2m\u001b[36m(sample_task_distribute pid=32725, ip=10.128.5.163)\u001b[0m Task id: 53 | Samples in the circle: 7854468\n",
      "\u001b[2m\u001b[36m(sample_task_distribute pid=32704, ip=10.128.5.163)\u001b[0m Task id: 62 | Samples in the circle: 7853464\n",
      "\u001b[2m\u001b[36m(sample_task_distribute pid=32700, ip=10.128.5.163)\u001b[0m Task id: 45 | Samples in the circle: 7853718\n",
      "\u001b[2m\u001b[36m(sample_task_distribute pid=32689, ip=10.128.5.163)\u001b[0m Task id: 60 | Samples in the circle: 7853273\n",
      "\u001b[2m\u001b[36m(sample_task_distribute pid=32714, ip=10.128.5.163)\u001b[0m Task id: 58 | Samples in the circle: 7853430\n",
      "\u001b[2m\u001b[36m(sample_task_distribute pid=32702, ip=10.128.5.163)\u001b[0m Task id: 47 | Samples in the circle: 7854053\n",
      "\u001b[2m\u001b[36m(sample_task_distribute pid=32695, ip=10.128.5.163)\u001b[0m Task id: 54 | Samples in the circle: 7854375\n",
      "\u001b[2m\u001b[36m(sample_task_distribute pid=32698, ip=10.128.5.163)\u001b[0m Task id: 43 | Samples in the circle: 7854134\n",
      "\u001b[2m\u001b[36m(sample_task_distribute pid=32705, ip=10.128.5.163)\u001b[0m Task id: 39 | Samples in the circle: 7854937\n",
      "\u001b[2m\u001b[36m(sample_task_distribute pid=32703, ip=10.128.5.163)\u001b[0m Task id: 41 | Samples in the circle: 7853407\n",
      "\u001b[2m\u001b[36m(sample_task_distribute pid=32701, ip=10.128.5.163)\u001b[0m Task id: 63 | Samples in the circle: 7855518\n",
      "\u001b[2m\u001b[36m(sample_task_distribute pid=32685, ip=10.128.5.163)\u001b[0m Task id: 37 | Samples in the circle: 7854465\n",
      "\u001b[2m\u001b[36m(sample_task_distribute pid=32690, ip=10.128.5.163)\u001b[0m Task id: 38 | Samples in the circle: 7856324\n",
      "\u001b[2m\u001b[36m(sample_task_distribute pid=32753, ip=10.128.5.163)\u001b[0m Task id: 80 | Samples in the circle: 7854160\n",
      "\u001b[2m\u001b[36m(sample_task_distribute pid=32688, ip=10.128.5.163)\u001b[0m Task id: 50 | Samples in the circle: 7852454\n",
      "\u001b[2m\u001b[36m(sample_task_distribute pid=32712, ip=10.128.5.163)\u001b[0m Task id: 44 | Samples in the circle: 7853401\n",
      "\u001b[2m\u001b[36m(sample_task_distribute pid=32764, ip=10.128.5.163)\u001b[0m Task id: 94 | Samples in the circle: 7853231\n",
      "\u001b[2m\u001b[36m(sample_task_distribute pid=32755, ip=10.128.5.163)\u001b[0m Task id: 78 | Samples in the circle: 7853685\n",
      "\u001b[2m\u001b[36m(sample_task_distribute pid=32771, ip=10.128.5.163)\u001b[0m Task id: 88 | Samples in the circle: 7853939\n",
      "\u001b[2m\u001b[36m(sample_task_distribute pid=33079, ip=10.128.5.163)\u001b[0m Task id: 85 | Samples in the circle: 7854541\n",
      "\u001b[2m\u001b[36m(sample_task_distribute pid=32745, ip=10.128.5.163)\u001b[0m Task id: 95 | Samples in the circle: 7854352\n",
      "\u001b[2m\u001b[36m(sample_task_distribute pid=32767, ip=10.128.5.163)\u001b[0m Task id: 106 | Samples in the circle: 7854863\n",
      "\u001b[2m\u001b[36m(sample_task_distribute pid=32757, ip=10.128.5.163)\u001b[0m Task id: 102 | Samples in the circle: 7855543\n",
      "\u001b[2m\u001b[36m(sample_task_distribute pid=32721, ip=10.128.5.163)\u001b[0m Task id: 114 | Samples in the circle: 7854377\n",
      "\u001b[2m\u001b[36m(sample_task_distribute pid=33759, ip=10.128.5.163)\u001b[0m Task id: 128 | Samples in the circle: 7853451\n",
      "\u001b[2m\u001b[36m(sample_task_distribute pid=32758, ip=10.128.5.163)\u001b[0m Task id: 82 | Samples in the circle: 7853691\n",
      "\u001b[2m\u001b[36m(sample_task_distribute pid=33015, ip=10.128.5.163)\u001b[0m Task id: 64 | Samples in the circle: 7853410\n",
      "\u001b[2m\u001b[36m(sample_task_distribute pid=32769, ip=10.128.5.163)\u001b[0m Task id: 84 | Samples in the circle: 7855509\n",
      "\u001b[2m\u001b[36m(sample_task_distribute pid=33350, ip=10.128.5.163)\u001b[0m Task id: 76 | Samples in the circle: 7852416\n",
      "\u001b[2m\u001b[36m(sample_task_distribute pid=32762, ip=10.128.5.163)\u001b[0m Task id: 96 | Samples in the circle: 7854931\n",
      "\u001b[2m\u001b[36m(sample_task_distribute pid=32756, ip=10.128.5.163)\u001b[0m Task id: 100 | Samples in the circle: 7853938\n",
      "\u001b[2m\u001b[36m(sample_task_distribute pid=32749, ip=10.128.5.163)\u001b[0m Task id: 104 | Samples in the circle: 7854856\n",
      "\u001b[2m\u001b[36m(sample_task_distribute pid=32748, ip=10.128.5.163)\u001b[0m Task id: 108 | Samples in the circle: 7855633\n",
      "\u001b[2m\u001b[36m(sample_task_distribute pid=32992, ip=10.128.5.163)\u001b[0m Task id: 92 | Samples in the circle: 7854216\n",
      "\u001b[2m\u001b[36m(sample_task_distribute pid=33767, ip=10.128.5.163)\u001b[0m Task id: 123 | Samples in the circle: 7855224\n",
      "\u001b[2m\u001b[36m(sample_task_distribute pid=33747, ip=10.128.5.163)\u001b[0m Task id: 127 | Samples in the circle: 7854897\n",
      "\u001b[2m\u001b[36m(sample_task_distribute pid=33377, ip=10.128.5.163)\u001b[0m Task id: 86 | Samples in the circle: 7852841\n",
      "\u001b[2m\u001b[36m(sample_task_distribute pid=33044, ip=10.128.5.163)\u001b[0m Task id: 70 | Samples in the circle: 7853633\n",
      "\u001b[2m\u001b[36m(sample_task_distribute pid=32763, ip=10.128.5.163)\u001b[0m Task id: 91 | Samples in the circle: 7852309\n",
      "\u001b[2m\u001b[36m(sample_task_distribute pid=32766, ip=10.128.5.163)\u001b[0m Task id: 93 | Samples in the circle: 7853308\n",
      "\u001b[2m\u001b[36m(sample_task_distribute pid=32733, ip=10.128.5.163)\u001b[0m Task id: 110 | Samples in the circle: 7854790\n",
      "\u001b[2m\u001b[36m(sample_task_distribute pid=32743, ip=10.128.5.163)\u001b[0m Task id: 118 | Samples in the circle: 7853223\n",
      "CPU times: user 158 ms, sys: 57.6 ms, total: 216 ms\n",
      "Wall time: 21.1 s\n"
     ]
    }
   ],
   "source": [
    "%%time\n",
    "results = run_disributed(NUM_SAMPLES_PER_TASK)\n",
    "pi = calculate_pi(results)"
   ]
  },
  {
   "cell_type": "code",
   "execution_count": 26,
   "id": "9a6c99d2-b247-47a2-9744-b0e2d8af4b3c",
   "metadata": {},
   "outputs": [
    {
     "name": "stdout",
     "output_type": "stream",
     "text": [
      "Estimated value of π is: 3.141644\n"
     ]
    }
   ],
   "source": [
    "print(f\"Estimated value of π is: {pi:5f}\")"
   ]
  },
  {
   "cell_type": "code",
   "execution_count": 27,
   "id": "6edeebd7-5ec0-41b2-bf83-6a22bf853541",
   "metadata": {},
   "outputs": [
    {
     "name": "stdout",
     "output_type": "stream",
     "text": [
      "\u001b[2m\u001b[36m(sample_task_distribute pid=32729, ip=10.128.5.163)\u001b[0m Task id: 97 | Samples in the circle: 7852667\n",
      "\u001b[2m\u001b[36m(sample_task_distribute pid=32768, ip=10.128.5.163)\u001b[0m Task id: 99 | Samples in the circle: 7855225\n"
     ]
    }
   ],
   "source": [
    "ray.shutdown()"
   ]
  },
  {
   "cell_type": "code",
   "execution_count": null,
   "id": "95c460db-3b16-43b4-9479-62761900a670",
   "metadata": {},
   "outputs": [],
   "source": []
  }
 ],
 "metadata": {
  "kernelspec": {
   "display_name": "ray_ml_env",
   "language": "python",
   "name": "ray_ml_env"
  },
  "language_info": {
   "codemirror_mode": {
    "name": "ipython",
    "version": 3
   },
   "file_extension": ".py",
   "mimetype": "text/x-python",
   "name": "python",
   "nbconvert_exporter": "python",
   "pygments_lexer": "ipython3",
   "version": "3.8.13"
  }
 },
 "nbformat": 4,
 "nbformat_minor": 5
}
