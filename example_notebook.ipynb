{
 "cells": [
  {
   "cell_type": "markdown",
   "id": "991de4c8-b56a-47e7-aa1d-1018834b7e57",
   "metadata": {},
   "source": [
    "# Ray hyperparameter optimization Notebook\n",
    "\n",
    "----\n",
    "\n",
    "**TLDR**: Ray Tune + Ray Train\n",
    "|\n"
   ]
  },
  {
   "cell_type": "markdown",
   "id": "4b2f3e3c-c758-480c-881c-062760ae6042",
   "metadata": {},
   "source": [
    "### Step 1: Start the Ray cluster in the background"
   ]
  },
  {
   "cell_type": "code",
   "execution_count": 1,
   "id": "25c93f65-93aa-4f14-8e66-618a2eef3064",
   "metadata": {},
   "outputs": [],
   "source": [
    "# Sbatch configuration\n",
    "sbatch_cmd_options = \\\n",
    "\"--time=00:30:00 \\\n",
    "-q debug \\\n",
    "-A dasrepo \\\n",
    "--image=nersc/pytorch:ngc-22.09-v0 \\\n",
    "--nodes=2\""
   ]
  },
  {
   "cell_type": "code",
   "execution_count": 2,
   "id": "16d4575c-4672-44b4-9aa7-df1a04e2a235",
   "metadata": {},
   "outputs": [
    {
     "name": "stdout",
     "output_type": "stream",
     "text": [
      "Submitted batch job 4973461\n"
     ]
    }
   ],
   "source": [
    "# Bash script to execute sbatch\n",
    "!source scripts/submit_ray_cluster.sh \"$sbatch_cmd_options\""
   ]
  },
  {
   "cell_type": "code",
   "execution_count": 1,
   "id": "a2a273be-87e5-4e8a-ac63-c97b909299cd",
   "metadata": {},
   "outputs": [
    {
     "name": "stdout",
     "output_type": "stream",
     "text": [
      "JOBID            ST USER      NAME          NODES TIME_LIMIT       TIME  SUBMIT_TIME          QOS             START_TIME           FEATURES       NODELIST(REASON\n",
      "4973461          R  asnaylor  sbatch_submi  2          30:00      10:25  2023-01-24T20:58:05  gpu_debug       2023-01-24T20:59:01  gpu&a100&hbm40 nid[002465,0024\n"
     ]
    }
   ],
   "source": [
    "# Check the job is running\n",
    "!sqs"
   ]
  },
  {
   "cell_type": "code",
   "execution_count": 2,
   "id": "4c5b6864-5754-41d1-895b-cff00fb70b7a",
   "metadata": {},
   "outputs": [
    {
     "name": "stdout",
     "output_type": "stream",
     "text": [
      "[slurm] - IP Head: nid002465:6379 | 128.55.64.85\n",
      "[slurm] - Starting ray HEAD\n",
      "2023-01-25 04:59:20,982\tINFO usage_lib.py:452 -- Usage stats collection is disabled.\n",
      "2023-01-25 04:59:20,982\tINFO scripts.py:719 -- Local node IP: nid002465\n",
      "2023-01-25 04:59:23,145\tSUCC scripts.py:756 -- --------------------\n",
      "2023-01-25 04:59:23,145\tSUCC scripts.py:757 -- Ray runtime started.\n",
      "2023-01-25 04:59:23,145\tSUCC scripts.py:758 -- --------------------\n",
      "2023-01-25 04:59:23,145\tINFO scripts.py:760 -- Next steps\n",
      "2023-01-25 04:59:23,145\tINFO scripts.py:761 -- To connect to this Ray runtime from another node, run\n",
      "2023-01-25 04:59:23,145\tINFO scripts.py:764 --   ray start --address='nid002465:6379'\n",
      "2023-01-25 04:59:23,145\tINFO scripts.py:780 -- Alternatively, use the following Python code:\n",
      "2023-01-25 04:59:23,145\tINFO scripts.py:782 -- import ray\n",
      "2023-01-25 04:59:23,145\tINFO scripts.py:786 -- ray.init(address='auto', _node_ip_address='nid002465')\n",
      "2023-01-25 04:59:23,145\tINFO scripts.py:798 -- To connect to this Ray runtime from outside of the cluster, for example to\n",
      "2023-01-25 04:59:23,145\tINFO scripts.py:802 -- connect to a remote cluster from your laptop directly, use the following\n",
      "2023-01-25 04:59:23,145\tINFO scripts.py:806 -- Python code:\n",
      "2023-01-25 04:59:23,145\tINFO scripts.py:808 -- import ray\n",
      "2023-01-25 04:59:23,145\tINFO scripts.py:809 -- ray.init(address='ray://<head_node_ip_address>:10001')\n",
      "2023-01-25 04:59:23,145\tINFO scripts.py:818 -- If connection fails, check your firewall settings and network configuration.\n",
      "2023-01-25 04:59:23,146\tINFO scripts.py:826 -- To terminate the Ray runtime, run\n",
      "2023-01-25 04:59:23,146\tINFO scripts.py:827 --   ray stop\n",
      "2023-01-25 04:59:23,146\tINFO scripts.py:905 -- --block\n",
      "2023-01-25 04:59:23,146\tINFO scripts.py:906 -- This command will now block forever until terminated by a signal.\n",
      "2023-01-25 04:59:23,146\tINFO scripts.py:909 -- Running subprocesses are monitored and a message will be printed if any of them terminate unexpectedly. Subprocesses exit with SIGTERM will be treated as graceful, thus NOT reported.\n",
      "[slurm] - Starting 1 ray worker\n",
      "    - 1 at nid002468\n",
      "[2023-01-25 04:59:51,212 I 5358 5358] global_state_accessor.cc:357: This node has an IP address of 10.249.15.58, while we can not found the matched Raylet address. This maybe come from when you connect the Ray cluster with a different IP address or connect a container.\n",
      "2023-01-25 04:59:50,985\tINFO scripts.py:883 -- Local node IP: 10.249.15.58\n",
      "2023-01-25 04:59:51,213\tSUCC scripts.py:895 -- --------------------\n",
      "2023-01-25 04:59:51,213\tSUCC scripts.py:896 -- Ray runtime started.\n",
      "2023-01-25 04:59:51,213\tSUCC scripts.py:897 -- --------------------\n",
      "2023-01-25 04:59:51,213\tINFO scripts.py:899 -- To terminate the Ray runtime, run\n",
      "2023-01-25 04:59:51,213\tINFO scripts.py:900 --   ray stop\n",
      "2023-01-25 04:59:51,214\tINFO scripts.py:905 -- --block\n",
      "2023-01-25 04:59:51,214\tINFO scripts.py:906 -- This command will now block forever until terminated by a signal.\n",
      "2023-01-25 04:59:51,214\tINFO scripts.py:909 -- Running subprocesses are monitored and a message will be printed if any of them terminate unexpectedly. Subprocesses exit with SIGTERM will be treated as graceful, thus NOT reported.\n"
     ]
    }
   ],
   "source": [
    "# Check job log\n",
    "!cat slurm-*.out"
   ]
  },
  {
   "cell_type": "markdown",
   "id": "64f36909-4a1a-4a99-81cc-e30618fba195",
   "metadata": {},
   "source": [
    "### Step 2: Connect to the Ray cluster"
   ]
  },
  {
   "cell_type": "code",
   "execution_count": 3,
   "id": "f1f0edba-9249-4dc7-b1c9-702473052ba8",
   "metadata": {},
   "outputs": [],
   "source": [
    "import ray\n",
    "\n",
    "from utility import get_ray_cluster_address, cluster_summary\n",
    "\n",
    "cluster_address = get_ray_cluster_address()"
   ]
  },
  {
   "cell_type": "code",
   "execution_count": 4,
   "id": "76e3be2d-1ab3-404f-9f01-a0076f1d9997",
   "metadata": {},
   "outputs": [
    {
     "data": {
      "text/html": [
       "<div>\n",
       "    <div style=\"margin-left: 50px;display: flex;flex-direction: row;align-items: center\">\n",
       "        <h3 style=\"color: var(--jp-ui-font-color0)\">Ray</h3>\n",
       "        <svg version=\"1.1\" id=\"ray\" width=\"3em\" viewBox=\"0 0 144.5 144.6\" style=\"margin-left: 3em;margin-right: 3em\">\n",
       "            <g id=\"layer-1\">\n",
       "                <path fill=\"#00a2e9\" class=\"st0\" d=\"M97.3,77.2c-3.8-1.1-6.2,0.9-8.3,5.1c-3.5,6.8-9.9,9.9-17.4,9.6S58,88.1,54.8,81.2c-1.4-3-3-4-6.3-4.1\n",
       "                    c-5.6-0.1-9.9,0.1-13.1,6.4c-3.8,7.6-13.6,10.2-21.8,7.6C5.2,88.4-0.4,80.5,0,71.7c0.1-8.4,5.7-15.8,13.8-18.2\n",
       "                    c8.4-2.6,17.5,0.7,22.3,8c1.3,1.9,1.3,5.2,3.6,5.6c3.9,0.6,8,0.2,12,0.2c1.8,0,1.9-1.6,2.4-2.8c3.5-7.8,9.7-11.8,18-11.9\n",
       "                    c8.2-0.1,14.4,3.9,17.8,11.4c1.3,2.8,2.9,3.6,5.7,3.3c1-0.1,2,0.1,3,0c2.8-0.5,6.4,1.7,8.1-2.7s-2.3-5.5-4.1-7.5\n",
       "                    c-5.1-5.7-10.9-10.8-16.1-16.3C84,38,81.9,37.1,78,38.3C66.7,42,56.2,35.7,53,24.1C50.3,14,57.3,2.8,67.7,0.5\n",
       "                    C78.4-2,89,4.7,91.5,15.3c0.1,0.3,0.1,0.5,0.2,0.8c0.7,3.4,0.7,6.9-0.8,9.8c-1.7,3.2-0.8,5,1.5,7.2c6.7,6.5,13.3,13,19.8,19.7\n",
       "                    c1.8,1.8,3,2.1,5.5,1.2c9.1-3.4,17.9-0.6,23.4,7c4.8,6.9,4.6,16.1-0.4,22.9c-5.4,7.2-14.2,9.9-23.1,6.5c-2.3-0.9-3.5-0.6-5.1,1.1\n",
       "                    c-6.7,6.9-13.6,13.7-20.5,20.4c-1.8,1.8-2.5,3.2-1.4,5.9c3.5,8.7,0.3,18.6-7.7,23.6c-7.9,5-18.2,3.8-24.8-2.9\n",
       "                    c-6.4-6.4-7.4-16.2-2.5-24.3c4.9-7.8,14.5-11,23.1-7.8c3,1.1,4.7,0.5,6.9-1.7C91.7,98.4,98,92.3,104.2,86c1.6-1.6,4.1-2.7,2.6-6.2\n",
       "                    c-1.4-3.3-3.8-2.5-6.2-2.6C99.8,77.2,98.9,77.2,97.3,77.2z M72.1,29.7c5.5,0.1,9.9-4.3,10-9.8c0-0.1,0-0.2,0-0.3\n",
       "                    C81.8,14,77,9.8,71.5,10.2c-5,0.3-9,4.2-9.3,9.2c-0.2,5.5,4,10.1,9.5,10.3C71.8,29.7,72,29.7,72.1,29.7z M72.3,62.3\n",
       "                    c-5.4-0.1-9.9,4.2-10.1,9.7c0,0.2,0,0.3,0,0.5c0.2,5.4,4.5,9.7,9.9,10c5.1,0.1,9.9-4.7,10.1-9.8c0.2-5.5-4-10-9.5-10.3\n",
       "                    C72.6,62.3,72.4,62.3,72.3,62.3z M115,72.5c0.1,5.4,4.5,9.7,9.8,9.9c5.6-0.2,10-4.8,10-10.4c-0.2-5.4-4.6-9.7-10-9.7\n",
       "                    c-5.3-0.1-9.8,4.2-9.9,9.5C115,72.1,115,72.3,115,72.5z M19.5,62.3c-5.4,0.1-9.8,4.4-10,9.8c-0.1,5.1,5.2,10.4,10.2,10.3\n",
       "                    c5.6-0.2,10-4.9,9.8-10.5c-0.1-5.4-4.5-9.7-9.9-9.6C19.6,62.3,19.5,62.3,19.5,62.3z M71.8,134.6c5.9,0.2,10.3-3.9,10.4-9.6\n",
       "                    c0.5-5.5-3.6-10.4-9.1-10.8c-5.5-0.5-10.4,3.6-10.8,9.1c0,0.5,0,0.9,0,1.4c-0.2,5.3,4,9.8,9.3,10\n",
       "                    C71.6,134.6,71.7,134.6,71.8,134.6z\"/>\n",
       "            </g>\n",
       "        </svg>\n",
       "        <table>\n",
       "            <tr>\n",
       "                <td style=\"text-align: left\"><b>Python version:</b></td>\n",
       "                <td style=\"text-align: left\"><b>3.8.13</b></td>\n",
       "            </tr>\n",
       "            <tr>\n",
       "                <td style=\"text-align: left\"><b>Ray version:</b></td>\n",
       "                <td style=\"text-align: left\"><b> 2.0.0</b></td>\n",
       "            </tr>\n",
       "            \n",
       "        </table>\n",
       "    </div>\n",
       "</div>\n"
      ],
      "text/plain": [
       "ClientContext(dashboard_url='', python_version='3.8.13', ray_version='2.0.0', ray_commit='cba26cc83f6b5b8a2ff166594a65cb74c0ec8740', protocol_version='2022-07-24', _num_clients=1, _context_to_restore=<ray.util.client._ClientContext object at 0x14fadf3172e0>)"
      ]
     },
     "execution_count": 4,
     "metadata": {},
     "output_type": "execute_result"
    }
   ],
   "source": [
    "ray.init(cluster_address)"
   ]
  },
  {
   "cell_type": "code",
   "execution_count": 5,
   "id": "4822689a-27af-4548-9c70-854af4a09f76",
   "metadata": {},
   "outputs": [
    {
     "name": "stdout",
     "output_type": "stream",
     "text": [
      "Cluster Summary\n",
      "---------------\n",
      "Nodes: 2\n",
      "CPU:   256\n",
      "GPU:   8\n",
      "RAM:   313.51 GB\n"
     ]
    }
   ],
   "source": [
    "cluster_summary()"
   ]
  },
  {
   "cell_type": "markdown",
   "id": "f43afa49-a022-461f-baf7-9a542412a86c",
   "metadata": {},
   "source": [
    "### Step 3: Setup PyTorch Model"
   ]
  },
  {
   "cell_type": "code",
   "execution_count": null,
   "id": "37ab2756-ec0b-4998-a62b-d315b3fe9841",
   "metadata": {},
   "outputs": [],
   "source": []
  },
  {
   "cell_type": "markdown",
   "id": "87fe1f73-ef27-416d-814f-3c80f4a02ef6",
   "metadata": {},
   "source": [
    "### Step 4: Train Model (Ray Train)"
   ]
  },
  {
   "cell_type": "code",
   "execution_count": null,
   "id": "f8abdee2-c9d9-4e37-950b-ad638fca0024",
   "metadata": {},
   "outputs": [],
   "source": []
  },
  {
   "cell_type": "markdown",
   "id": "1e84f433-4b08-4c1a-929f-020add4fb106",
   "metadata": {},
   "source": [
    "### Step 5: Tune Model (Ray Tune)"
   ]
  },
  {
   "cell_type": "code",
   "execution_count": null,
   "id": "c09fa1a6-fc80-4dcf-b0c8-d71942a278c8",
   "metadata": {},
   "outputs": [],
   "source": []
  },
  {
   "cell_type": "code",
   "execution_count": null,
   "id": "5bdffe3d-9430-4ae5-8812-d0471000abb6",
   "metadata": {},
   "outputs": [],
   "source": []
  },
  {
   "cell_type": "code",
   "execution_count": null,
   "id": "2d0ed5ae-519a-4d85-bc7b-ae9f3f41bc3d",
   "metadata": {},
   "outputs": [],
   "source": []
  },
  {
   "cell_type": "code",
   "execution_count": 6,
   "id": "4699d77c-85ad-4a61-b968-e1e54c09ff47",
   "metadata": {},
   "outputs": [],
   "source": [
    "# Change this to match your cluster scale.\n",
    "NUM_SAMPLING_TASKS = 256\n",
    "NUM_SAMPLES_PER_TASK = 10_000_000\n",
    "TOTAL_NUM_SAMPLES = NUM_SAMPLING_TASKS * NUM_SAMPLES_PER_TASK"
   ]
  },
  {
   "cell_type": "code",
   "execution_count": 7,
   "id": "b792f074-2d9e-4f5b-a4eb-a90a263f58ba",
   "metadata": {},
   "outputs": [],
   "source": [
    "import random\n",
    "import math\n",
    "from typing import Tuple, List\n",
    "\n",
    "def sampling_task(num_samples: int, task_id: int, verbose=True) -> int:\n",
    "    num_inside = 0\n",
    "    for i in range(num_samples):\n",
    "        x, y = random.uniform(-1, 1), random.uniform(-1, 1)\n",
    "        # check if the point is inside the circle\n",
    "        if math.hypot(x, y) <= 1:\n",
    "            num_inside += 1\n",
    "    if verbose:\n",
    "        print(f\"Task id: {task_id} | Samples in the circle: {num_inside}\")\n",
    "    return num_inside\n",
    "\n",
    "@ray.remote\n",
    "def sample_task_distribute(sample_size, i) -> object:\n",
    "    return sampling_task(sample_size, i)\n",
    "\n",
    "def run_disributed(sample_size) -> List[int]:\n",
    "    # Launch Ray remote tasks in a comprehension list, each returns immediately with a future ObjectRef \n",
    "    # Use ray.get to fetch the computed value; this will block until the ObjectRef is resolved or its value is materialized.\n",
    "    results = ray.get([\n",
    "            sample_task_distribute.remote(sample_size, i+1) for i in range(NUM_SAMPLING_TASKS)\n",
    "        ])\n",
    "    return results\n",
    "\n",
    "def calculate_pi(results: List[int]) -> float:\n",
    "    total_num_inside = sum(results)\n",
    "    pi = (total_num_inside * 4) / TOTAL_NUM_SAMPLES\n",
    "    return pi"
   ]
  },
  {
   "cell_type": "code",
   "execution_count": 8,
   "id": "5059183a-f7c8-47aa-9b13-2104661cdeae",
   "metadata": {},
   "outputs": [
    {
     "name": "stdout",
     "output_type": "stream",
     "text": [
      "\u001b[2m\u001b[36m(sample_task_distribute pid=19487)\u001b[0m Task id: 1 | Samples in the circle: 7854304\n",
      "\u001b[2m\u001b[36m(sample_task_distribute pid=45563)\u001b[0m Task id: 4 | Samples in the circle: 7853305\n",
      "\u001b[2m\u001b[36m(sample_task_distribute pid=45574)\u001b[0m Task id: 3 | Samples in the circle: 7856010\n",
      "\u001b[2m\u001b[36m(sample_task_distribute pid=19486)\u001b[0m Task id: 2 | Samples in the circle: 7853484\n",
      "\u001b[2m\u001b[36m(sample_task_distribute pid=45562)\u001b[0m Task id: 7 | Samples in the circle: 7855152\n",
      "\u001b[2m\u001b[36m(sample_task_distribute pid=45598)\u001b[0m Task id: 12 | Samples in the circle: 7854451\n",
      "\u001b[2m\u001b[36m(sample_task_distribute pid=45600)\u001b[0m Task id: 8 | Samples in the circle: 7853267\n",
      "\u001b[2m\u001b[36m(sample_task_distribute pid=45567)\u001b[0m Task id: 5 | Samples in the circle: 7854218\n",
      "\u001b[2m\u001b[36m(sample_task_distribute pid=45571)\u001b[0m Task id: 6 | Samples in the circle: 7854859\n",
      "\u001b[2m\u001b[36m(sample_task_distribute pid=45596)\u001b[0m Task id: 9 | Samples in the circle: 7854571\n",
      "\u001b[2m\u001b[36m(sample_task_distribute pid=45599)\u001b[0m Task id: 13 | Samples in the circle: 7854394\n",
      "\u001b[2m\u001b[36m(sample_task_distribute pid=46114)\u001b[0m Task id: 44 | Samples in the circle: 7855390\n",
      "\u001b[2m\u001b[36m(sample_task_distribute pid=46249)\u001b[0m Task id: 63 | Samples in the circle: 7852309\n",
      "\u001b[2m\u001b[36m(sample_task_distribute pid=45597)\u001b[0m Task id: 11 | Samples in the circle: 7854005\n",
      "\u001b[2m\u001b[36m(sample_task_distribute pid=45570)\u001b[0m Task id: 10 | Samples in the circle: 7853703\n",
      "\u001b[2m\u001b[36m(sample_task_distribute pid=46050)\u001b[0m Task id: 55 | Samples in the circle: 7854924\n",
      "\u001b[2m\u001b[36m(sample_task_distribute pid=46047)\u001b[0m Task id: 42 | Samples in the circle: 7853118\n",
      "\u001b[2m\u001b[36m(sample_task_distribute pid=46199)\u001b[0m Task id: 28 | Samples in the circle: 7854944\n",
      "\u001b[2m\u001b[36m(sample_task_distribute pid=45759)\u001b[0m Task id: 51 | Samples in the circle: 7855339\n",
      "\u001b[2m\u001b[36m(sample_task_distribute pid=46053)\u001b[0m Task id: 58 | Samples in the circle: 7851349\n",
      "\u001b[2m\u001b[36m(sample_task_distribute pid=46243)\u001b[0m Task id: 50 | Samples in the circle: 7851764\n",
      "\u001b[2m\u001b[36m(sample_task_distribute pid=46247)\u001b[0m Task id: 57 | Samples in the circle: 7855233\n",
      "\u001b[2m\u001b[36m(sample_task_distribute pid=46107)\u001b[0m Task id: 19 | Samples in the circle: 7855863\n",
      "\u001b[2m\u001b[36m(sample_task_distribute pid=46097)\u001b[0m Task id: 18 | Samples in the circle: 7853260\n",
      "\u001b[2m\u001b[36m(sample_task_distribute pid=46102)\u001b[0m Task id: 53 | Samples in the circle: 7854105\n",
      "\u001b[2m\u001b[36m(sample_task_distribute pid=46028)\u001b[0m Task id: 59 | Samples in the circle: 7854743\n",
      "\u001b[2m\u001b[36m(sample_task_distribute pid=46036)\u001b[0m Task id: 38 | Samples in the circle: 7855659\n",
      "\u001b[2m\u001b[36m(sample_task_distribute pid=46250)\u001b[0m Task id: 29 | Samples in the circle: 7852088\n",
      "\u001b[2m\u001b[36m(sample_task_distribute pid=46082)\u001b[0m Task id: 21 | Samples in the circle: 7854685\n",
      "\u001b[2m\u001b[36m(sample_task_distribute pid=46061)\u001b[0m Task id: 49 | Samples in the circle: 7853894\n",
      "\u001b[2m\u001b[36m(sample_task_distribute pid=45841)\u001b[0m Task id: 61 | Samples in the circle: 7855673\n",
      "\u001b[2m\u001b[36m(sample_task_distribute pid=46075)\u001b[0m Task id: 34 | Samples in the circle: 7854456\n",
      "\u001b[2m\u001b[36m(sample_task_distribute pid=46142)\u001b[0m Task id: 48 | Samples in the circle: 7855063\n",
      "\u001b[2m\u001b[36m(sample_task_distribute pid=46077)\u001b[0m Task id: 31 | Samples in the circle: 7855708\n",
      "\u001b[2m\u001b[36m(sample_task_distribute pid=46130)\u001b[0m Task id: 23 | Samples in the circle: 7855300\n",
      "\u001b[2m\u001b[36m(sample_task_distribute pid=45996)\u001b[0m Task id: 54 | Samples in the circle: 7854793\n",
      "\u001b[2m\u001b[36m(sample_task_distribute pid=46073)\u001b[0m Task id: 43 | Samples in the circle: 7853013\n",
      "\u001b[2m\u001b[36m(sample_task_distribute pid=46074)\u001b[0m Task id: 46 | Samples in the circle: 7852363\n",
      "\u001b[2m\u001b[36m(sample_task_distribute pid=46151)\u001b[0m Task id: 30 | Samples in the circle: 7852226\n",
      "\u001b[2m\u001b[36m(sample_task_distribute pid=46057)\u001b[0m Task id: 32 | Samples in the circle: 7853924\n",
      "\u001b[2m\u001b[36m(sample_task_distribute pid=46078)\u001b[0m Task id: 33 | Samples in the circle: 7854052\n",
      "\u001b[2m\u001b[36m(sample_task_distribute pid=46106)\u001b[0m Task id: 37 | Samples in the circle: 7853732\n",
      "\u001b[2m\u001b[36m(sample_task_distribute pid=46139)\u001b[0m Task id: 16 | Samples in the circle: 7854334\n",
      "\u001b[2m\u001b[36m(sample_task_distribute pid=46052)\u001b[0m Task id: 22 | Samples in the circle: 7856540\n",
      "\u001b[2m\u001b[36m(sample_task_distribute pid=46115)\u001b[0m Task id: 36 | Samples in the circle: 7854522\n",
      "\u001b[2m\u001b[36m(sample_task_distribute pid=45851)\u001b[0m Task id: 40 | Samples in the circle: 7853560\n",
      "\u001b[2m\u001b[36m(sample_task_distribute pid=46150)\u001b[0m Task id: 64 | Samples in the circle: 7851540\n",
      "\u001b[2m\u001b[36m(sample_task_distribute pid=46064)\u001b[0m Task id: 35 | Samples in the circle: 7852325\n",
      "\u001b[2m\u001b[36m(sample_task_distribute pid=46059)\u001b[0m Task id: 41 | Samples in the circle: 7853570\n",
      "\u001b[2m\u001b[36m(sample_task_distribute pid=45843)\u001b[0m Task id: 56 | Samples in the circle: 7855489\n",
      "\u001b[2m\u001b[36m(sample_task_distribute pid=46260)\u001b[0m Task id: 62 | Samples in the circle: 7853112\n",
      "\u001b[2m\u001b[36m(sample_task_distribute pid=46136)\u001b[0m Task id: 15 | Samples in the circle: 7852393\n",
      "\u001b[2m\u001b[36m(sample_task_distribute pid=46122)\u001b[0m Task id: 17 | Samples in the circle: 7854235\n",
      "\u001b[2m\u001b[36m(sample_task_distribute pid=45811)\u001b[0m Task id: 20 | Samples in the circle: 7851837\n",
      "\u001b[2m\u001b[36m(sample_task_distribute pid=46032)\u001b[0m Task id: 26 | Samples in the circle: 7853193\n",
      "\u001b[2m\u001b[36m(sample_task_distribute pid=46254)\u001b[0m Task id: 14 | Samples in the circle: 7852894\n",
      "\u001b[2m\u001b[36m(sample_task_distribute pid=46090)\u001b[0m Task id: 25 | Samples in the circle: 7855743\n",
      "\u001b[2m\u001b[36m(sample_task_distribute pid=46100)\u001b[0m Task id: 45 | Samples in the circle: 7855809\n",
      "\u001b[2m\u001b[36m(sample_task_distribute pid=46039)\u001b[0m Task id: 52 | Samples in the circle: 7853932\n",
      "\u001b[2m\u001b[36m(sample_task_distribute pid=46046)\u001b[0m Task id: 60 | Samples in the circle: 7854371\n",
      "\u001b[2m\u001b[36m(sample_task_distribute pid=46244)\u001b[0m Task id: 27 | Samples in the circle: 7855002\n",
      "\u001b[2m\u001b[36m(sample_task_distribute pid=45770)\u001b[0m Task id: 232 | Samples in the circle: 7854537\n",
      "\u001b[2m\u001b[36m(sample_task_distribute pid=46111)\u001b[0m Task id: 24 | Samples in the circle: 7853682\n",
      "\u001b[2m\u001b[36m(sample_task_distribute pid=45865)\u001b[0m Task id: 39 | Samples in the circle: 7853506\n",
      "\u001b[2m\u001b[36m(sample_task_distribute pid=45829)\u001b[0m Task id: 144 | Samples in the circle: 7856309\n",
      "\u001b[2m\u001b[36m(sample_task_distribute pid=45980)\u001b[0m Task id: 146 | Samples in the circle: 7855352\n",
      "\u001b[2m\u001b[36m(sample_task_distribute pid=46005)\u001b[0m Task id: 178 | Samples in the circle: 7853431\n",
      "\u001b[2m\u001b[36m(sample_task_distribute pid=46071)\u001b[0m Task id: 126 | Samples in the circle: 7853638\n",
      "\u001b[2m\u001b[36m(sample_task_distribute pid=46095)\u001b[0m Task id: 47 | Samples in the circle: 7855162\n",
      "\u001b[2m\u001b[36m(sample_task_distribute pid=46108)\u001b[0m Task id: 171 | Samples in the circle: 7855019\n",
      "\u001b[2m\u001b[36m(sample_task_distribute pid=46004)\u001b[0m Task id: 186 | Samples in the circle: 7853308\n",
      "\u001b[2m\u001b[36m(sample_task_distribute pid=45772)\u001b[0m Task id: 242 | Samples in the circle: 7852100\n",
      "\u001b[2m\u001b[36m(sample_task_distribute pid=45848)\u001b[0m Task id: 243 | Samples in the circle: 7853574\n",
      "\u001b[2m\u001b[36m(sample_task_distribute pid=45861)\u001b[0m Task id: 250 | Samples in the circle: 7851945\n",
      "\u001b[2m\u001b[36m(sample_task_distribute pid=45791)\u001b[0m Task id: 222 | Samples in the circle: 7854712\n",
      "\u001b[2m\u001b[36m(sample_task_distribute pid=46022)\u001b[0m Task id: 203 | Samples in the circle: 7853958\n",
      "\u001b[2m\u001b[36m(sample_task_distribute pid=45790)\u001b[0m Task id: 202 | Samples in the circle: 7855362\n",
      "\u001b[2m\u001b[36m(sample_task_distribute pid=46051)\u001b[0m Task id: 158 | Samples in the circle: 7855600\n",
      "\u001b[2m\u001b[36m(sample_task_distribute pid=46067)\u001b[0m Task id: 215 | Samples in the circle: 7853159\n",
      "\u001b[2m\u001b[36m(sample_task_distribute pid=45867)\u001b[0m Task id: 174 | Samples in the circle: 7854813\n",
      "\u001b[2m\u001b[36m(sample_task_distribute pid=46242)\u001b[0m Task id: 136 | Samples in the circle: 7854321\n",
      "\u001b[2m\u001b[36m(sample_task_distribute pid=46118)\u001b[0m Task id: 138 | Samples in the circle: 7854240\n",
      "\u001b[2m\u001b[36m(sample_task_distribute pid=46124)\u001b[0m Task id: 140 | Samples in the circle: 7854596\n",
      "\u001b[2m\u001b[36m(sample_task_distribute pid=46038)\u001b[0m Task id: 152 | Samples in the circle: 7853316\n",
      "\u001b[2m\u001b[36m(sample_task_distribute pid=45832)\u001b[0m Task id: 154 | Samples in the circle: 7853798\n",
      "\u001b[2m\u001b[36m(sample_task_distribute pid=46048)\u001b[0m Task id: 156 | Samples in the circle: 7855287\n",
      "\u001b[2m\u001b[36m(sample_task_distribute pid=46072)\u001b[0m Task id: 160 | Samples in the circle: 7852418\n",
      "\u001b[2m\u001b[36m(sample_task_distribute pid=46015)\u001b[0m Task id: 176 | Samples in the circle: 7854274\n",
      "\u001b[2m\u001b[36m(sample_task_distribute pid=46076)\u001b[0m Task id: 173 | Samples in the circle: 7854378\n",
      "\u001b[2m\u001b[36m(sample_task_distribute pid=46001)\u001b[0m Task id: 182 | Samples in the circle: 7852915\n",
      "\u001b[2m\u001b[36m(sample_task_distribute pid=46138)\u001b[0m Task id: 128 | Samples in the circle: 7852279\n",
      "\u001b[2m\u001b[36m(sample_task_distribute pid=46112)\u001b[0m Task id: 134 | Samples in the circle: 7853749\n",
      "\u001b[2m\u001b[36m(sample_task_distribute pid=45765)\u001b[0m Task id: 238 | Samples in the circle: 7856102\n",
      "\u001b[2m\u001b[36m(sample_task_distribute pid=45804)\u001b[0m Task id: 244 | Samples in the circle: 7855665\n",
      "\u001b[2m\u001b[36m(sample_task_distribute pid=45864)\u001b[0m Task id: 196 | Samples in the circle: 7855281\n",
      "\u001b[2m\u001b[36m(sample_task_distribute pid=45764)\u001b[0m Task id: 198 | Samples in the circle: 7853793\n",
      "\u001b[2m\u001b[36m(sample_task_distribute pid=45862)\u001b[0m Task id: 150 | Samples in the circle: 7854535\n",
      "\u001b[2m\u001b[36m(sample_task_distribute pid=45866)\u001b[0m Task id: 206 | Samples in the circle: 7854821\n",
      "\u001b[2m\u001b[36m(sample_task_distribute pid=45863)\u001b[0m Task id: 180 | Samples in the circle: 7853996\n",
      "\u001b[2m\u001b[36m(sample_task_distribute pid=45771)\u001b[0m Task id: 190 | Samples in the circle: 7854338\n",
      "\u001b[2m\u001b[36m(sample_task_distribute pid=45776)\u001b[0m Task id: 193 | Samples in the circle: 7854486\n",
      "\u001b[2m\u001b[36m(sample_task_distribute pid=45837)\u001b[0m Task id: 210 | Samples in the circle: 7855757\n",
      "\u001b[2m\u001b[36m(sample_task_distribute pid=45822)\u001b[0m Task id: 212 | Samples in the circle: 7853839\n",
      "\u001b[2m\u001b[36m(sample_task_distribute pid=45838)\u001b[0m Task id: 148 | Samples in the circle: 7852809\n",
      "\u001b[2m\u001b[36m(sample_task_distribute pid=46043)\u001b[0m Task id: 188 | Samples in the circle: 7853338\n",
      "\u001b[2m\u001b[36m(sample_task_distribute pid=21804, ip=128.55.64.174)\u001b[0m Task id: 65 | Samples in the circle: 7854521\n",
      "\u001b[2m\u001b[36m(sample_task_distribute pid=46110)\u001b[0m Task id: 123 | Samples in the circle: 7855417\n",
      "\u001b[2m\u001b[36m(sample_task_distribute pid=46120)\u001b[0m Task id: 142 | Samples in the circle: 7853106\n",
      "\u001b[2m\u001b[36m(sample_task_distribute pid=21828, ip=128.55.64.174)\u001b[0m Task id: 75 | Samples in the circle: 7855290\n",
      "\u001b[2m\u001b[36m(sample_task_distribute pid=45768)\u001b[0m Task id: 234 | Samples in the circle: 7854734\n",
      "\u001b[2m\u001b[36m(sample_task_distribute pid=45855)\u001b[0m Task id: 208 | Samples in the circle: 7853465\n",
      "\u001b[2m\u001b[36m(sample_task_distribute pid=45792)\u001b[0m Task id: 226 | Samples in the circle: 7855475\n",
      "\u001b[2m\u001b[36m(sample_task_distribute pid=46066)\u001b[0m Task id: 164 | Samples in the circle: 7853551\n",
      "\u001b[2m\u001b[36m(sample_task_distribute pid=46084)\u001b[0m Task id: 184 | Samples in the circle: 7854962\n",
      "\u001b[2m\u001b[36m(sample_task_distribute pid=46149)\u001b[0m Task id: 129 | Samples in the circle: 7855596\n",
      "\u001b[2m\u001b[36m(sample_task_distribute pid=45755)\u001b[0m Task id: 236 | Samples in the circle: 7852326\n",
      "\u001b[2m\u001b[36m(sample_task_distribute pid=45818)\u001b[0m Task id: 230 | Samples in the circle: 7853683\n",
      "\u001b[2m\u001b[36m(sample_task_distribute pid=46045)\u001b[0m Task id: 217 | Samples in the circle: 7854438\n",
      "\u001b[2m\u001b[36m(sample_task_distribute pid=45847)\u001b[0m Task id: 224 | Samples in the circle: 7853594\n",
      "\u001b[2m\u001b[36m(sample_task_distribute pid=45991)\u001b[0m Task id: 162 | Samples in the circle: 7854061\n",
      "\u001b[2m\u001b[36m(sample_task_distribute pid=21830, ip=128.55.64.174)\u001b[0m Task id: 72 | Samples in the circle: 7853968\n",
      "\u001b[2m\u001b[36m(sample_task_distribute pid=46088)\u001b[0m Task id: 131 | Samples in the circle: 7853791\n",
      "\u001b[2m\u001b[36m(sample_task_distribute pid=45762)\u001b[0m Task id: 252 | Samples in the circle: 7851799\n",
      "\u001b[2m\u001b[36m(sample_task_distribute pid=45857)\u001b[0m Task id: 199 | Samples in the circle: 7853797\n",
      "\u001b[2m\u001b[36m(sample_task_distribute pid=45752)\u001b[0m Task id: 227 | Samples in the circle: 7853879\n",
      "\u001b[2m\u001b[36m(sample_task_distribute pid=46009)\u001b[0m Task id: 168 | Samples in the circle: 7854705\n",
      "\u001b[2m\u001b[36m(sample_task_distribute pid=21806, ip=128.55.64.174)\u001b[0m Task id: 68 | Samples in the circle: 7853635\n",
      "\u001b[2m\u001b[36m(sample_task_distribute pid=21805, ip=128.55.64.174)\u001b[0m Task id: 67 | Samples in the circle: 7854133\n",
      "\u001b[2m\u001b[36m(sample_task_distribute pid=21816, ip=128.55.64.174)\u001b[0m Task id: 66 | Samples in the circle: 7853532\n",
      "\u001b[2m\u001b[36m(sample_task_distribute pid=21811, ip=128.55.64.174)\u001b[0m Task id: 74 | Samples in the circle: 7851803\n",
      "\u001b[2m\u001b[36m(sample_task_distribute pid=21823, ip=128.55.64.174)\u001b[0m Task id: 73 | Samples in the circle: 7852728\n",
      "\u001b[2m\u001b[36m(sample_task_distribute pid=21809, ip=128.55.64.174)\u001b[0m Task id: 69 | Samples in the circle: 7853013\n",
      "\u001b[2m\u001b[36m(sample_task_distribute pid=21814, ip=128.55.64.174)\u001b[0m Task id: 70 | Samples in the circle: 7854736\n",
      "\u001b[2m\u001b[36m(sample_task_distribute pid=45738)\u001b[0m Task id: 246 | Samples in the circle: 7855958\n",
      "\u001b[2m\u001b[36m(sample_task_distribute pid=45773)\u001b[0m Task id: 247 | Samples in the circle: 7850858\n",
      "\u001b[2m\u001b[36m(sample_task_distribute pid=45793)\u001b[0m Task id: 220 | Samples in the circle: 7854159\n",
      "\u001b[2m\u001b[36m(sample_task_distribute pid=45831)\u001b[0m Task id: 214 | Samples in the circle: 7854162\n",
      "\u001b[2m\u001b[36m(sample_task_distribute pid=45988)\u001b[0m Task id: 166 | Samples in the circle: 7852341\n",
      "\u001b[2m\u001b[36m(sample_task_distribute pid=21827, ip=128.55.64.174)\u001b[0m Task id: 76 | Samples in the circle: 7855488\n",
      "\u001b[2m\u001b[36m(sample_task_distribute pid=21831, ip=128.55.64.174)\u001b[0m Task id: 71 | Samples in the circle: 7857542\n",
      "\u001b[2m\u001b[36m(sample_task_distribute pid=22196, ip=128.55.64.174)\u001b[0m Task id: 111 | Samples in the circle: 7854885\n",
      "\u001b[2m\u001b[36m(sample_task_distribute pid=22859, ip=128.55.64.174)\u001b[0m Task id: 91 | Samples in the circle: 7852483\n",
      "\u001b[2m\u001b[36m(sample_task_distribute pid=22228, ip=128.55.64.174)\u001b[0m Task id: 118 | Samples in the circle: 7854099\n",
      "\u001b[2m\u001b[36m(sample_task_distribute pid=23049, ip=128.55.64.174)\u001b[0m Task id: 204 | Samples in the circle: 7853192\n",
      "\u001b[2m\u001b[36m(sample_task_distribute pid=22259, ip=128.55.64.174)\u001b[0m Task id: 99 | Samples in the circle: 7852723\n",
      "\u001b[2m\u001b[36m(sample_task_distribute pid=21900, ip=128.55.64.174)\u001b[0m Task id: 256 | Samples in the circle: 7854398\n",
      "\u001b[2m\u001b[36m(sample_task_distribute pid=22176, ip=128.55.64.174)\u001b[0m Task id: 183 | Samples in the circle: 7852514\n",
      "\u001b[2m\u001b[36m(sample_task_distribute pid=21941, ip=128.55.64.174)\u001b[0m Task id: 185 | Samples in the circle: 7853139\n",
      "\u001b[2m\u001b[36m(sample_task_distribute pid=22251, ip=128.55.64.174)\u001b[0m Task id: 228 | Samples in the circle: 7854687\n",
      "\u001b[2m\u001b[36m(sample_task_distribute pid=22270, ip=128.55.64.174)\u001b[0m Task id: 85 | Samples in the circle: 7854425\n",
      "\u001b[2m\u001b[36m(sample_task_distribute pid=21913, ip=128.55.64.174)\u001b[0m Task id: 237 | Samples in the circle: 7853497\n",
      "\u001b[2m\u001b[36m(sample_task_distribute pid=22229, ip=128.55.64.174)\u001b[0m Task id: 127 | Samples in the circle: 7857466\n",
      "\u001b[2m\u001b[36m(sample_task_distribute pid=22177, ip=128.55.64.174)\u001b[0m Task id: 83 | Samples in the circle: 7852670\n",
      "\u001b[2m\u001b[36m(sample_task_distribute pid=22823, ip=128.55.64.174)\u001b[0m Task id: 78 | Samples in the circle: 7856071\n",
      "\u001b[2m\u001b[36m(sample_task_distribute pid=22214, ip=128.55.64.174)\u001b[0m Task id: 88 | Samples in the circle: 7853883\n",
      "\u001b[2m\u001b[36m(sample_task_distribute pid=22013, ip=128.55.64.174)\u001b[0m Task id: 165 | Samples in the circle: 7853216\n",
      "\u001b[2m\u001b[36m(sample_task_distribute pid=22018, ip=128.55.64.174)\u001b[0m Task id: 179 | Samples in the circle: 7855845\n",
      "\u001b[2m\u001b[36m(sample_task_distribute pid=21994, ip=128.55.64.174)\u001b[0m Task id: 149 | Samples in the circle: 7853684\n",
      "\u001b[2m\u001b[36m(sample_task_distribute pid=21924, ip=128.55.64.174)\u001b[0m Task id: 248 | Samples in the circle: 7855082\n",
      "\u001b[2m\u001b[36m(sample_task_distribute pid=21935, ip=128.55.64.174)\u001b[0m Task id: 141 | Samples in the circle: 7854314\n",
      "\u001b[2m\u001b[36m(sample_task_distribute pid=21944, ip=128.55.64.174)\u001b[0m Task id: 189 | Samples in the circle: 7853254\n",
      "\u001b[2m\u001b[36m(sample_task_distribute pid=22233, ip=128.55.64.174)\u001b[0m Task id: 109 | Samples in the circle: 7854359\n",
      "\u001b[2m\u001b[36m(sample_task_distribute pid=22201, ip=128.55.64.174)\u001b[0m Task id: 113 | Samples in the circle: 7855006\n",
      "\u001b[2m\u001b[36m(sample_task_distribute pid=22266, ip=128.55.64.174)\u001b[0m Task id: 100 | Samples in the circle: 7856487\n",
      "\u001b[2m\u001b[36m(sample_task_distribute pid=22284, ip=128.55.64.174)\u001b[0m Task id: 97 | Samples in the circle: 7851648\n",
      "\u001b[2m\u001b[36m(sample_task_distribute pid=23020, ip=128.55.64.174)\u001b[0m Task id: 169 | Samples in the circle: 7852535\n",
      "\u001b[2m\u001b[36m(sample_task_distribute pid=22280, ip=128.55.64.174)\u001b[0m Task id: 80 | Samples in the circle: 7852279\n",
      "\u001b[2m\u001b[36m(sample_task_distribute pid=22252, ip=128.55.64.174)\u001b[0m Task id: 84 | Samples in the circle: 7852253\n",
      "\u001b[2m\u001b[36m(sample_task_distribute pid=22290, ip=128.55.64.174)\u001b[0m Task id: 87 | Samples in the circle: 7853829\n",
      "\u001b[2m\u001b[36m(sample_task_distribute pid=21990, ip=128.55.64.174)\u001b[0m Task id: 200 | Samples in the circle: 7854881\n",
      "\u001b[2m\u001b[36m(sample_task_distribute pid=21952, ip=128.55.64.174)\u001b[0m Task id: 205 | Samples in the circle: 7852560\n",
      "\u001b[2m\u001b[36m(sample_task_distribute pid=21939, ip=128.55.64.174)\u001b[0m Task id: 229 | Samples in the circle: 7852622\n",
      "\u001b[2m\u001b[36m(sample_task_distribute pid=21895, ip=128.55.64.174)\u001b[0m Task id: 249 | Samples in the circle: 7853155\n",
      "\u001b[2m\u001b[36m(sample_task_distribute pid=22007, ip=128.55.64.174)\u001b[0m Task id: 157 | Samples in the circle: 7855662\n",
      "\u001b[2m\u001b[36m(sample_task_distribute pid=22182, ip=128.55.64.174)\u001b[0m Task id: 137 | Samples in the circle: 7857199\n",
      "\u001b[2m\u001b[36m(sample_task_distribute pid=22001, ip=128.55.64.174)\u001b[0m Task id: 139 | Samples in the circle: 7854728\n",
      "\u001b[2m\u001b[36m(sample_task_distribute pid=22008, ip=128.55.64.174)\u001b[0m Task id: 143 | Samples in the circle: 7852440\n",
      "\u001b[2m\u001b[36m(sample_task_distribute pid=21961, ip=128.55.64.174)\u001b[0m Task id: 145 | Samples in the circle: 7853802\n",
      "\u001b[2m\u001b[36m(sample_task_distribute pid=22033, ip=128.55.64.174)\u001b[0m Task id: 147 | Samples in the circle: 7853897\n",
      "\u001b[2m\u001b[36m(sample_task_distribute pid=22209, ip=128.55.64.174)\u001b[0m Task id: 115 | Samples in the circle: 7851048\n",
      "\u001b[2m\u001b[36m(sample_task_distribute pid=22188, ip=128.55.64.174)\u001b[0m Task id: 125 | Samples in the circle: 7852613\n",
      "\u001b[2m\u001b[36m(sample_task_distribute pid=22034, ip=128.55.64.174)\u001b[0m Task id: 107 | Samples in the circle: 7855585\n",
      "\u001b[2m\u001b[36m(sample_task_distribute pid=22036, ip=128.55.64.174)\u001b[0m Task id: 110 | Samples in the circle: 7853948\n",
      "\u001b[2m\u001b[36m(sample_task_distribute pid=23056, ip=128.55.64.174)\u001b[0m Task id: 192 | Samples in the circle: 7852522\n",
      "\u001b[2m\u001b[36m(sample_task_distribute pid=22288, ip=128.55.64.174)\u001b[0m Task id: 82 | Samples in the circle: 7853028\n",
      "\u001b[2m\u001b[36m(sample_task_distribute pid=21972, ip=128.55.64.174)\u001b[0m Task id: 201 | Samples in the circle: 7855032\n",
      "\u001b[2m\u001b[36m(sample_task_distribute pid=22023, ip=128.55.64.174)\u001b[0m Task id: 167 | Samples in the circle: 7855617\n",
      "\u001b[2m\u001b[36m(sample_task_distribute pid=22234, ip=128.55.64.174)\u001b[0m Task id: 103 | Samples in the circle: 7851297\n",
      "\u001b[2m\u001b[36m(sample_task_distribute pid=22264, ip=128.55.64.174)\u001b[0m Task id: 79 | Samples in the circle: 7856124\n",
      "\u001b[2m\u001b[36m(sample_task_distribute pid=21945, ip=128.55.64.174)\u001b[0m Task id: 216 | Samples in the circle: 7855487\n",
      "\u001b[2m\u001b[36m(sample_task_distribute pid=21966, ip=128.55.64.174)\u001b[0m Task id: 223 | Samples in the circle: 7854149\n",
      "\u001b[2m\u001b[36m(sample_task_distribute pid=22014, ip=128.55.64.174)\u001b[0m Task id: 163 | Samples in the circle: 7853799\n",
      "\u001b[2m\u001b[36m(sample_task_distribute pid=21949, ip=128.55.64.174)\u001b[0m Task id: 153 | Samples in the circle: 7854106\n",
      "\u001b[2m\u001b[36m(sample_task_distribute pid=22217, ip=128.55.64.174)\u001b[0m Task id: 112 | Samples in the circle: 7854859\n",
      "\u001b[2m\u001b[36m(sample_task_distribute pid=22222, ip=128.55.64.174)\u001b[0m Task id: 114 | Samples in the circle: 7852889\n",
      "\u001b[2m\u001b[36m(sample_task_distribute pid=22287, ip=128.55.64.174)\u001b[0m Task id: 98 | Samples in the circle: 7852266\n",
      "\u001b[2m\u001b[36m(sample_task_distribute pid=21995, ip=128.55.64.174)\u001b[0m Task id: 101 | Samples in the circle: 7853336\n",
      "\u001b[2m\u001b[36m(sample_task_distribute pid=22246, ip=128.55.64.174)\u001b[0m Task id: 102 | Samples in the circle: 7852379\n",
      "\u001b[2m\u001b[36m(sample_task_distribute pid=22273, ip=128.55.64.174)\u001b[0m Task id: 106 | Samples in the circle: 7852464\n",
      "\u001b[2m\u001b[36m(sample_task_distribute pid=22269, ip=128.55.64.174)\u001b[0m Task id: 105 | Samples in the circle: 7852636\n",
      "\u001b[2m\u001b[36m(sample_task_distribute pid=22244, ip=128.55.64.174)\u001b[0m Task id: 95 | Samples in the circle: 7853807\n",
      "\u001b[2m\u001b[36m(sample_task_distribute pid=22285, ip=128.55.64.174)\u001b[0m Task id: 96 | Samples in the circle: 7854541\n",
      "\u001b[2m\u001b[36m(sample_task_distribute pid=22286, ip=128.55.64.174)\u001b[0m Task id: 191 | Samples in the circle: 7856390\n",
      "\u001b[2m\u001b[36m(sample_task_distribute pid=22220, ip=128.55.64.174)\u001b[0m Task id: 194 | Samples in the circle: 7855542\n",
      "\u001b[2m\u001b[36m(sample_task_distribute pid=22918, ip=128.55.64.174)\u001b[0m Task id: 116 | Samples in the circle: 7854727\n",
      "\u001b[2m\u001b[36m(sample_task_distribute pid=22844, ip=128.55.64.174)\u001b[0m Task id: 104 | Samples in the circle: 7854880\n",
      "\u001b[2m\u001b[36m(sample_task_distribute pid=22889, ip=128.55.64.174)\u001b[0m Task id: 92 | Samples in the circle: 7856799\n",
      "\u001b[2m\u001b[36m(sample_task_distribute pid=22258, ip=128.55.64.174)\u001b[0m Task id: 89 | Samples in the circle: 7856577\n",
      "\u001b[2m\u001b[36m(sample_task_distribute pid=22291, ip=128.55.64.174)\u001b[0m Task id: 93 | Samples in the circle: 7854597\n",
      "\u001b[2m\u001b[36m(sample_task_distribute pid=22243, ip=128.55.64.174)\u001b[0m Task id: 94 | Samples in the circle: 7854027\n",
      "\u001b[2m\u001b[36m(sample_task_distribute pid=22861, ip=128.55.64.174)\u001b[0m Task id: 90 | Samples in the circle: 7853151\n",
      "\u001b[2m\u001b[36m(sample_task_distribute pid=22856, ip=128.55.64.174)\u001b[0m Task id: 77 | Samples in the circle: 7853715\n",
      "\u001b[2m\u001b[36m(sample_task_distribute pid=22289, ip=128.55.64.174)\u001b[0m Task id: 81 | Samples in the circle: 7854633\n",
      "\u001b[2m\u001b[36m(sample_task_distribute pid=22254, ip=128.55.64.174)\u001b[0m Task id: 86 | Samples in the circle: 7853301\n",
      "\u001b[2m\u001b[36m(sample_task_distribute pid=22175, ip=128.55.64.174)\u001b[0m Task id: 197 | Samples in the circle: 7853435\n",
      "\u001b[2m\u001b[36m(sample_task_distribute pid=21929, ip=128.55.64.174)\u001b[0m Task id: 207 | Samples in the circle: 7852929\n",
      "\u001b[2m\u001b[36m(sample_task_distribute pid=21934, ip=128.55.64.174)\u001b[0m Task id: 209 | Samples in the circle: 7853882\n",
      "\u001b[2m\u001b[36m(sample_task_distribute pid=21969, ip=128.55.64.174)\u001b[0m Task id: 219 | Samples in the circle: 7853494\n",
      "\u001b[2m\u001b[36m(sample_task_distribute pid=21985, ip=128.55.64.174)\u001b[0m Task id: 221 | Samples in the circle: 7854021\n",
      "\u001b[2m\u001b[36m(sample_task_distribute pid=22010, ip=128.55.64.174)\u001b[0m Task id: 231 | Samples in the circle: 7851542\n",
      "\u001b[2m\u001b[36m(sample_task_distribute pid=21955, ip=128.55.64.174)\u001b[0m Task id: 240 | Samples in the circle: 7854174\n",
      "\u001b[2m\u001b[36m(sample_task_distribute pid=21908, ip=128.55.64.174)\u001b[0m Task id: 251 | Samples in the circle: 7854450\n",
      "\u001b[2m\u001b[36m(sample_task_distribute pid=21984, ip=128.55.64.174)\u001b[0m Task id: 254 | Samples in the circle: 7855279\n",
      "\u001b[2m\u001b[36m(sample_task_distribute pid=21970, ip=128.55.64.174)\u001b[0m Task id: 253 | Samples in the circle: 7853848\n",
      "\u001b[2m\u001b[36m(sample_task_distribute pid=21819, ip=128.55.64.174)\u001b[0m Task id: 255 | Samples in the circle: 7851828\n",
      "\u001b[2m\u001b[36m(sample_task_distribute pid=21965, ip=128.55.64.174)\u001b[0m Task id: 151 | Samples in the circle: 7852662\n",
      "\u001b[2m\u001b[36m(sample_task_distribute pid=22178, ip=128.55.64.174)\u001b[0m Task id: 155 | Samples in the circle: 7851316\n",
      "\u001b[2m\u001b[36m(sample_task_distribute pid=22012, ip=128.55.64.174)\u001b[0m Task id: 159 | Samples in the circle: 7855122\n",
      "\u001b[2m\u001b[36m(sample_task_distribute pid=22026, ip=128.55.64.174)\u001b[0m Task id: 161 | Samples in the circle: 7854394\n",
      "\u001b[2m\u001b[36m(sample_task_distribute pid=22257, ip=128.55.64.174)\u001b[0m Task id: 172 | Samples in the circle: 7854487\n",
      "\u001b[2m\u001b[36m(sample_task_distribute pid=21977, ip=128.55.64.174)\u001b[0m Task id: 177 | Samples in the circle: 7851999\n",
      "\u001b[2m\u001b[36m(sample_task_distribute pid=21960, ip=128.55.64.174)\u001b[0m Task id: 181 | Samples in the circle: 7854424\n",
      "\u001b[2m\u001b[36m(sample_task_distribute pid=21974, ip=128.55.64.174)\u001b[0m Task id: 187 | Samples in the circle: 7855241\n",
      "\u001b[2m\u001b[36m(sample_task_distribute pid=21967, ip=128.55.64.174)\u001b[0m Task id: 195 | Samples in the circle: 7853354\n",
      "\u001b[2m\u001b[36m(sample_task_distribute pid=22021, ip=128.55.64.174)\u001b[0m Task id: 130 | Samples in the circle: 7851933\n",
      "\u001b[2m\u001b[36m(sample_task_distribute pid=22240, ip=128.55.64.174)\u001b[0m Task id: 132 | Samples in the circle: 7853482\n",
      "\u001b[2m\u001b[36m(sample_task_distribute pid=22028, ip=128.55.64.174)\u001b[0m Task id: 133 | Samples in the circle: 7854678\n",
      "\u001b[2m\u001b[36m(sample_task_distribute pid=22031, ip=128.55.64.174)\u001b[0m Task id: 135 | Samples in the circle: 7852789\n",
      "\u001b[2m\u001b[36m(sample_task_distribute pid=22035, ip=128.55.64.174)\u001b[0m Task id: 117 | Samples in the circle: 7852911\n",
      "\u001b[2m\u001b[36m(sample_task_distribute pid=22032, ip=128.55.64.174)\u001b[0m Task id: 119 | Samples in the circle: 7853857\n",
      "\u001b[2m\u001b[36m(sample_task_distribute pid=22192, ip=128.55.64.174)\u001b[0m Task id: 120 | Samples in the circle: 7853430\n",
      "\u001b[2m\u001b[36m(sample_task_distribute pid=21998, ip=128.55.64.174)\u001b[0m Task id: 121 | Samples in the circle: 7851510\n",
      "\u001b[2m\u001b[36m(sample_task_distribute pid=22206, ip=128.55.64.174)\u001b[0m Task id: 122 | Samples in the circle: 7853394\n",
      "\u001b[2m\u001b[36m(sample_task_distribute pid=22003, ip=128.55.64.174)\u001b[0m Task id: 124 | Samples in the circle: 7854974\n",
      "\u001b[2m\u001b[36m(sample_task_distribute pid=22250, ip=128.55.64.174)\u001b[0m Task id: 108 | Samples in the circle: 7852108\n",
      "\u001b[2m\u001b[36m(sample_task_distribute pid=21957, ip=128.55.64.174)\u001b[0m Task id: 211 | Samples in the circle: 7855456\n",
      "\u001b[2m\u001b[36m(sample_task_distribute pid=21921, ip=128.55.64.174)\u001b[0m Task id: 245 | Samples in the circle: 7856724\n",
      "\u001b[2m\u001b[36m(sample_task_distribute pid=21989, ip=128.55.64.174)\u001b[0m Task id: 235 | Samples in the circle: 7853789\n",
      "\u001b[2m\u001b[36m(sample_task_distribute pid=21832, ip=128.55.64.174)\u001b[0m Task id: 218 | Samples in the circle: 7854449\n",
      "CPU times: user 116 ms, sys: 36.1 ms, total: 152 ms\n",
      "Wall time: 16.7 s\n"
     ]
    }
   ],
   "source": [
    "%%time\n",
    "results = run_disributed(NUM_SAMPLES_PER_TASK)\n",
    "pi = calculate_pi(results)"
   ]
  },
  {
   "cell_type": "code",
   "execution_count": 9,
   "id": "9a6c99d2-b247-47a2-9744-b0e2d8af4b3c",
   "metadata": {},
   "outputs": [
    {
     "name": "stdout",
     "output_type": "stream",
     "text": [
      "Estimated value of π is: 3.141604\n"
     ]
    }
   ],
   "source": [
    "print(f\"Estimated value of π is: {pi:5f}\")"
   ]
  },
  {
   "cell_type": "markdown",
   "id": "533efabd-29d7-4b71-a2c9-b6098072d7a3",
   "metadata": {},
   "source": [
    "#### Close the ray connection and end the job"
   ]
  },
  {
   "cell_type": "code",
   "execution_count": 10,
   "id": "6edeebd7-5ec0-41b2-bf83-6a22bf853541",
   "metadata": {},
   "outputs": [],
   "source": [
    "ray.shutdown()"
   ]
  },
  {
   "cell_type": "code",
   "execution_count": 11,
   "id": "a7ae4c87-549a-44a3-83ba-1d22a0db3ecd",
   "metadata": {},
   "outputs": [],
   "source": [
    "!scancel -u $USER"
   ]
  },
  {
   "cell_type": "code",
   "execution_count": null,
   "id": "37f8718d-c10a-439e-acd2-7e80cfd5f727",
   "metadata": {},
   "outputs": [],
   "source": []
  }
 ],
 "metadata": {
  "kernelspec": {
   "display_name": "ray_ml_env",
   "language": "python",
   "name": "ray_ml_env"
  },
  "language_info": {
   "codemirror_mode": {
    "name": "ipython",
    "version": 3
   },
   "file_extension": ".py",
   "mimetype": "text/x-python",
   "name": "python",
   "nbconvert_exporter": "python",
   "pygments_lexer": "ipython3",
   "version": "3.8.13"
  }
 },
 "nbformat": 4,
 "nbformat_minor": 5
}
